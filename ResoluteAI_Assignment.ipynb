{
 "cells": [
  {
   "cell_type": "code",
   "execution_count": 1,
   "id": "75218474",
   "metadata": {},
   "outputs": [],
   "source": [
    "import pandas as pd\n",
    "import numpy as np\n",
    "import matplotlib.pyplot as plt\n",
    "from sklearn.tree import DecisionTreeRegressor\n",
    "from sklearn.ensemble import RandomForestRegressor\n",
    "from sklearn.svm import SVR\n",
    "from sklearn.model_selection import train_test_split"
   ]
  },
  {
   "cell_type": "code",
   "execution_count": 2,
   "id": "e92aecca",
   "metadata": {},
   "outputs": [
    {
     "data": {
      "text/html": [
       "<div>\n",
       "<style scoped>\n",
       "    .dataframe tbody tr th:only-of-type {\n",
       "        vertical-align: middle;\n",
       "    }\n",
       "\n",
       "    .dataframe tbody tr th {\n",
       "        vertical-align: top;\n",
       "    }\n",
       "\n",
       "    .dataframe thead th {\n",
       "        text-align: right;\n",
       "    }\n",
       "</style>\n",
       "<table border=\"1\" class=\"dataframe\">\n",
       "  <thead>\n",
       "    <tr style=\"text-align: right;\">\n",
       "      <th></th>\n",
       "      <th>InvoiceNo</th>\n",
       "      <th>StockCode</th>\n",
       "      <th>Description</th>\n",
       "      <th>Quantity</th>\n",
       "      <th>InvoiceDate</th>\n",
       "      <th>UnitPrice</th>\n",
       "      <th>CustomerID</th>\n",
       "      <th>Country</th>\n",
       "    </tr>\n",
       "  </thead>\n",
       "  <tbody>\n",
       "    <tr>\n",
       "      <th>0</th>\n",
       "      <td>536365</td>\n",
       "      <td>85123A</td>\n",
       "      <td>WHITE HANGING HEART T-LIGHT HOLDER</td>\n",
       "      <td>6</td>\n",
       "      <td>2010-12-01 08:26:00</td>\n",
       "      <td>2.55</td>\n",
       "      <td>17850.0</td>\n",
       "      <td>United Kingdom</td>\n",
       "    </tr>\n",
       "    <tr>\n",
       "      <th>1</th>\n",
       "      <td>536365</td>\n",
       "      <td>71053</td>\n",
       "      <td>WHITE METAL LANTERN</td>\n",
       "      <td>6</td>\n",
       "      <td>2010-12-01 08:26:00</td>\n",
       "      <td>3.39</td>\n",
       "      <td>17850.0</td>\n",
       "      <td>United Kingdom</td>\n",
       "    </tr>\n",
       "    <tr>\n",
       "      <th>2</th>\n",
       "      <td>536365</td>\n",
       "      <td>84406B</td>\n",
       "      <td>CREAM CUPID HEARTS COAT HANGER</td>\n",
       "      <td>8</td>\n",
       "      <td>2010-12-01 08:26:00</td>\n",
       "      <td>2.75</td>\n",
       "      <td>17850.0</td>\n",
       "      <td>United Kingdom</td>\n",
       "    </tr>\n",
       "    <tr>\n",
       "      <th>3</th>\n",
       "      <td>536365</td>\n",
       "      <td>84029G</td>\n",
       "      <td>KNITTED UNION FLAG HOT WATER BOTTLE</td>\n",
       "      <td>6</td>\n",
       "      <td>2010-12-01 08:26:00</td>\n",
       "      <td>3.39</td>\n",
       "      <td>17850.0</td>\n",
       "      <td>United Kingdom</td>\n",
       "    </tr>\n",
       "    <tr>\n",
       "      <th>4</th>\n",
       "      <td>536365</td>\n",
       "      <td>84029E</td>\n",
       "      <td>RED WOOLLY HOTTIE WHITE HEART.</td>\n",
       "      <td>6</td>\n",
       "      <td>2010-12-01 08:26:00</td>\n",
       "      <td>3.39</td>\n",
       "      <td>17850.0</td>\n",
       "      <td>United Kingdom</td>\n",
       "    </tr>\n",
       "  </tbody>\n",
       "</table>\n",
       "</div>"
      ],
      "text/plain": [
       "  InvoiceNo StockCode                          Description  Quantity  \\\n",
       "0    536365    85123A   WHITE HANGING HEART T-LIGHT HOLDER         6   \n",
       "1    536365     71053                  WHITE METAL LANTERN         6   \n",
       "2    536365    84406B       CREAM CUPID HEARTS COAT HANGER         8   \n",
       "3    536365    84029G  KNITTED UNION FLAG HOT WATER BOTTLE         6   \n",
       "4    536365    84029E       RED WOOLLY HOTTIE WHITE HEART.         6   \n",
       "\n",
       "          InvoiceDate  UnitPrice  CustomerID         Country  \n",
       "0 2010-12-01 08:26:00       2.55     17850.0  United Kingdom  \n",
       "1 2010-12-01 08:26:00       3.39     17850.0  United Kingdom  \n",
       "2 2010-12-01 08:26:00       2.75     17850.0  United Kingdom  \n",
       "3 2010-12-01 08:26:00       3.39     17850.0  United Kingdom  \n",
       "4 2010-12-01 08:26:00       3.39     17850.0  United Kingdom  "
      ]
     },
     "execution_count": 2,
     "metadata": {},
     "output_type": "execute_result"
    }
   ],
   "source": [
    "data = pd.read_excel(\"Online Retail.xlsx\")\n",
    "data.head()"
   ]
  },
  {
   "cell_type": "code",
   "execution_count": 3,
   "id": "975b9438",
   "metadata": {},
   "outputs": [
    {
     "data": {
      "text/plain": [
       "541909"
      ]
     },
     "execution_count": 3,
     "metadata": {},
     "output_type": "execute_result"
    }
   ],
   "source": [
    "len(data) #very long data"
   ]
  },
  {
   "cell_type": "code",
   "execution_count": 4,
   "id": "221b84dc",
   "metadata": {},
   "outputs": [
    {
     "name": "stdout",
     "output_type": "stream",
     "text": [
      "38\n"
     ]
    },
    {
     "data": {
      "text/plain": [
       "array(['United Kingdom', 'France', 'Australia', 'Netherlands', 'Germany',\n",
       "       'Norway', 'EIRE', 'Switzerland', 'Spain', 'Poland', 'Portugal',\n",
       "       'Italy', 'Belgium', 'Lithuania', 'Japan', 'Iceland',\n",
       "       'Channel Islands', 'Denmark', 'Cyprus', 'Sweden', 'Austria',\n",
       "       'Israel', 'Finland', 'Bahrain', 'Greece', 'Hong Kong', 'Singapore',\n",
       "       'Lebanon', 'United Arab Emirates', 'Saudi Arabia',\n",
       "       'Czech Republic', 'Canada', 'Unspecified', 'Brazil', 'USA',\n",
       "       'European Community', 'Malta', 'RSA'], dtype=object)"
      ]
     },
     "execution_count": 4,
     "metadata": {},
     "output_type": "execute_result"
    }
   ],
   "source": [
    "print(len(data[\"Country\"].unique()))\n",
    "data[\"Country\"].unique()\n",
    "# 38 different countries"
   ]
  },
  {
   "cell_type": "code",
   "execution_count": 5,
   "id": "15aea20b",
   "metadata": {},
   "outputs": [
    {
     "data": {
      "text/plain": [
       "Country\n",
       "Australia                 1259\n",
       "Austria                    401\n",
       "Bahrain                     19\n",
       "Belgium                   2069\n",
       "Brazil                      32\n",
       "Canada                     151\n",
       "Channel Islands            758\n",
       "Cyprus                     622\n",
       "Czech Republic              30\n",
       "Denmark                    389\n",
       "EIRE                      8196\n",
       "European Community          61\n",
       "Finland                    695\n",
       "France                    8557\n",
       "Germany                   9495\n",
       "Greece                     146\n",
       "Hong Kong                  288\n",
       "Iceland                    182\n",
       "Israel                     297\n",
       "Italy                      803\n",
       "Japan                      358\n",
       "Lebanon                     45\n",
       "Lithuania                   35\n",
       "Malta                      127\n",
       "Netherlands               2371\n",
       "Norway                    1086\n",
       "Poland                     341\n",
       "Portugal                  1519\n",
       "RSA                         58\n",
       "Saudi Arabia                10\n",
       "Singapore                  229\n",
       "Spain                     2533\n",
       "Sweden                     462\n",
       "Switzerland               2002\n",
       "USA                        291\n",
       "United Arab Emirates        68\n",
       "United Kingdom          495478\n",
       "Unspecified                446\n",
       "Name: InvoiceNo, dtype: int64"
      ]
     },
     "execution_count": 5,
     "metadata": {},
     "output_type": "execute_result"
    }
   ],
   "source": [
    "grouped_data = data.groupby(\"Country\")\n",
    "(grouped_data.count().iloc[:,0])\n",
    "# Countries with maximum entries are Greece, France, United Kingdom"
   ]
  },
  {
   "cell_type": "code",
   "execution_count": 6,
   "id": "4772b981",
   "metadata": {},
   "outputs": [
    {
     "data": {
      "text/plain": [
       "InvoiceNo      False\n",
       "StockCode      False\n",
       "Description     True\n",
       "Quantity       False\n",
       "InvoiceDate    False\n",
       "UnitPrice      False\n",
       "CustomerID      True\n",
       "Country        False\n",
       "dtype: bool"
      ]
     },
     "execution_count": 6,
     "metadata": {},
     "output_type": "execute_result"
    }
   ],
   "source": [
    "# Checking for NaN values\n",
    "data.isnull().any()"
   ]
  },
  {
   "cell_type": "code",
   "execution_count": 7,
   "id": "34832d69",
   "metadata": {},
   "outputs": [
    {
     "data": {
      "text/plain": [
       "InvoiceNo           0\n",
       "StockCode           0\n",
       "Description      1454\n",
       "Quantity            0\n",
       "InvoiceDate         0\n",
       "UnitPrice           0\n",
       "CustomerID     135080\n",
       "Country             0\n",
       "dtype: int64"
      ]
     },
     "execution_count": 7,
     "metadata": {},
     "output_type": "execute_result"
    }
   ],
   "source": [
    "data.isnull().sum()"
   ]
  },
  {
   "cell_type": "code",
   "execution_count": 8,
   "id": "a1aa7863",
   "metadata": {},
   "outputs": [],
   "source": [
    "EIRE_data = data[data[\"Country\"] == \"EIRE\"]\n",
    "Greece_Data = data[data[\"Country\"] == \"Greece\"]\n",
    "France_data = data[data[\"Country\"] == \"France\"]"
   ]
  },
  {
   "cell_type": "code",
   "execution_count": 9,
   "id": "c7ab49e2",
   "metadata": {},
   "outputs": [
    {
     "data": {
      "text/html": [
       "<div>\n",
       "<style scoped>\n",
       "    .dataframe tbody tr th:only-of-type {\n",
       "        vertical-align: middle;\n",
       "    }\n",
       "\n",
       "    .dataframe tbody tr th {\n",
       "        vertical-align: top;\n",
       "    }\n",
       "\n",
       "    .dataframe thead th {\n",
       "        text-align: right;\n",
       "    }\n",
       "</style>\n",
       "<table border=\"1\" class=\"dataframe\">\n",
       "  <thead>\n",
       "    <tr style=\"text-align: right;\">\n",
       "      <th></th>\n",
       "      <th>InvoiceNo</th>\n",
       "      <th>StockCode</th>\n",
       "      <th>Description</th>\n",
       "      <th>Quantity</th>\n",
       "      <th>InvoiceDate</th>\n",
       "      <th>UnitPrice</th>\n",
       "      <th>CustomerID</th>\n",
       "      <th>Country</th>\n",
       "    </tr>\n",
       "  </thead>\n",
       "  <tbody>\n",
       "    <tr>\n",
       "      <th>1404</th>\n",
       "      <td>536540</td>\n",
       "      <td>22968</td>\n",
       "      <td>ROSE COTTAGE KEEPSAKE BOX</td>\n",
       "      <td>4</td>\n",
       "      <td>2010-12-01 14:05:00</td>\n",
       "      <td>9.95</td>\n",
       "      <td>14911.0</td>\n",
       "      <td>EIRE</td>\n",
       "    </tr>\n",
       "    <tr>\n",
       "      <th>1405</th>\n",
       "      <td>536540</td>\n",
       "      <td>85071A</td>\n",
       "      <td>BLUE CHARLIE+LOLA PERSONAL DOORSIGN</td>\n",
       "      <td>6</td>\n",
       "      <td>2010-12-01 14:05:00</td>\n",
       "      <td>2.95</td>\n",
       "      <td>14911.0</td>\n",
       "      <td>EIRE</td>\n",
       "    </tr>\n",
       "    <tr>\n",
       "      <th>1406</th>\n",
       "      <td>536540</td>\n",
       "      <td>85071C</td>\n",
       "      <td>CHARLIE+LOLA\"EXTREMELY BUSY\" SIGN</td>\n",
       "      <td>6</td>\n",
       "      <td>2010-12-01 14:05:00</td>\n",
       "      <td>2.55</td>\n",
       "      <td>14911.0</td>\n",
       "      <td>EIRE</td>\n",
       "    </tr>\n",
       "    <tr>\n",
       "      <th>1407</th>\n",
       "      <td>536540</td>\n",
       "      <td>22355</td>\n",
       "      <td>CHARLOTTE BAG SUKI DESIGN</td>\n",
       "      <td>50</td>\n",
       "      <td>2010-12-01 14:05:00</td>\n",
       "      <td>0.85</td>\n",
       "      <td>14911.0</td>\n",
       "      <td>EIRE</td>\n",
       "    </tr>\n",
       "    <tr>\n",
       "      <th>1408</th>\n",
       "      <td>536540</td>\n",
       "      <td>21579</td>\n",
       "      <td>LOLITA  DESIGN  COTTON TOTE BAG</td>\n",
       "      <td>6</td>\n",
       "      <td>2010-12-01 14:05:00</td>\n",
       "      <td>2.25</td>\n",
       "      <td>14911.0</td>\n",
       "      <td>EIRE</td>\n",
       "    </tr>\n",
       "  </tbody>\n",
       "</table>\n",
       "</div>"
      ],
      "text/plain": [
       "     InvoiceNo StockCode                          Description  Quantity  \\\n",
       "1404    536540     22968           ROSE COTTAGE KEEPSAKE BOX          4   \n",
       "1405    536540    85071A  BLUE CHARLIE+LOLA PERSONAL DOORSIGN         6   \n",
       "1406    536540    85071C    CHARLIE+LOLA\"EXTREMELY BUSY\" SIGN         6   \n",
       "1407    536540     22355            CHARLOTTE BAG SUKI DESIGN        50   \n",
       "1408    536540     21579      LOLITA  DESIGN  COTTON TOTE BAG         6   \n",
       "\n",
       "             InvoiceDate  UnitPrice  CustomerID Country  \n",
       "1404 2010-12-01 14:05:00       9.95     14911.0    EIRE  \n",
       "1405 2010-12-01 14:05:00       2.95     14911.0    EIRE  \n",
       "1406 2010-12-01 14:05:00       2.55     14911.0    EIRE  \n",
       "1407 2010-12-01 14:05:00       0.85     14911.0    EIRE  \n",
       "1408 2010-12-01 14:05:00       2.25     14911.0    EIRE  "
      ]
     },
     "execution_count": 9,
     "metadata": {},
     "output_type": "execute_result"
    }
   ],
   "source": [
    "EIRE_data.head()"
   ]
  },
  {
   "cell_type": "code",
   "execution_count": 10,
   "id": "32e73639",
   "metadata": {},
   "outputs": [
    {
     "data": {
      "text/html": [
       "<div>\n",
       "<style scoped>\n",
       "    .dataframe tbody tr th:only-of-type {\n",
       "        vertical-align: middle;\n",
       "    }\n",
       "\n",
       "    .dataframe tbody tr th {\n",
       "        vertical-align: top;\n",
       "    }\n",
       "\n",
       "    .dataframe thead th {\n",
       "        text-align: right;\n",
       "    }\n",
       "</style>\n",
       "<table border=\"1\" class=\"dataframe\">\n",
       "  <thead>\n",
       "    <tr style=\"text-align: right;\">\n",
       "      <th></th>\n",
       "      <th>InvoiceNo</th>\n",
       "      <th>StockCode</th>\n",
       "      <th>Description</th>\n",
       "      <th>Quantity</th>\n",
       "      <th>InvoiceDate</th>\n",
       "      <th>UnitPrice</th>\n",
       "      <th>CustomerID</th>\n",
       "      <th>Country</th>\n",
       "    </tr>\n",
       "  </thead>\n",
       "  <tbody>\n",
       "    <tr>\n",
       "      <th>69007</th>\n",
       "      <td>541932</td>\n",
       "      <td>22699</td>\n",
       "      <td>ROSES REGENCY TEACUP AND SAUCER</td>\n",
       "      <td>24</td>\n",
       "      <td>2011-01-24 11:39:00</td>\n",
       "      <td>2.55</td>\n",
       "      <td>14439.0</td>\n",
       "      <td>Greece</td>\n",
       "    </tr>\n",
       "    <tr>\n",
       "      <th>69008</th>\n",
       "      <td>541932</td>\n",
       "      <td>22697</td>\n",
       "      <td>GREEN REGENCY TEACUP AND SAUCER</td>\n",
       "      <td>24</td>\n",
       "      <td>2011-01-24 11:39:00</td>\n",
       "      <td>2.55</td>\n",
       "      <td>14439.0</td>\n",
       "      <td>Greece</td>\n",
       "    </tr>\n",
       "    <tr>\n",
       "      <th>69009</th>\n",
       "      <td>541932</td>\n",
       "      <td>22957</td>\n",
       "      <td>SET 3 PAPER VINTAGE CHICK PAPER EGG</td>\n",
       "      <td>24</td>\n",
       "      <td>2011-01-24 11:39:00</td>\n",
       "      <td>2.95</td>\n",
       "      <td>14439.0</td>\n",
       "      <td>Greece</td>\n",
       "    </tr>\n",
       "    <tr>\n",
       "      <th>69010</th>\n",
       "      <td>541932</td>\n",
       "      <td>22720</td>\n",
       "      <td>SET OF 3 CAKE TINS PANTRY DESIGN</td>\n",
       "      <td>24</td>\n",
       "      <td>2011-01-24 11:39:00</td>\n",
       "      <td>4.25</td>\n",
       "      <td>14439.0</td>\n",
       "      <td>Greece</td>\n",
       "    </tr>\n",
       "    <tr>\n",
       "      <th>69011</th>\n",
       "      <td>541932</td>\n",
       "      <td>72760B</td>\n",
       "      <td>VINTAGE CREAM 3 BASKET CAKE STAND</td>\n",
       "      <td>16</td>\n",
       "      <td>2011-01-24 11:39:00</td>\n",
       "      <td>8.49</td>\n",
       "      <td>14439.0</td>\n",
       "      <td>Greece</td>\n",
       "    </tr>\n",
       "  </tbody>\n",
       "</table>\n",
       "</div>"
      ],
      "text/plain": [
       "      InvoiceNo StockCode                          Description  Quantity  \\\n",
       "69007    541932     22699     ROSES REGENCY TEACUP AND SAUCER         24   \n",
       "69008    541932     22697      GREEN REGENCY TEACUP AND SAUCER        24   \n",
       "69009    541932     22957  SET 3 PAPER VINTAGE CHICK PAPER EGG        24   \n",
       "69010    541932     22720    SET OF 3 CAKE TINS PANTRY DESIGN         24   \n",
       "69011    541932    72760B    VINTAGE CREAM 3 BASKET CAKE STAND        16   \n",
       "\n",
       "              InvoiceDate  UnitPrice  CustomerID Country  \n",
       "69007 2011-01-24 11:39:00       2.55     14439.0  Greece  \n",
       "69008 2011-01-24 11:39:00       2.55     14439.0  Greece  \n",
       "69009 2011-01-24 11:39:00       2.95     14439.0  Greece  \n",
       "69010 2011-01-24 11:39:00       4.25     14439.0  Greece  \n",
       "69011 2011-01-24 11:39:00       8.49     14439.0  Greece  "
      ]
     },
     "execution_count": 10,
     "metadata": {},
     "output_type": "execute_result"
    }
   ],
   "source": [
    "Greece_Data.head()"
   ]
  },
  {
   "cell_type": "code",
   "execution_count": 11,
   "id": "146a7f94",
   "metadata": {},
   "outputs": [
    {
     "data": {
      "text/html": [
       "<div>\n",
       "<style scoped>\n",
       "    .dataframe tbody tr th:only-of-type {\n",
       "        vertical-align: middle;\n",
       "    }\n",
       "\n",
       "    .dataframe tbody tr th {\n",
       "        vertical-align: top;\n",
       "    }\n",
       "\n",
       "    .dataframe thead th {\n",
       "        text-align: right;\n",
       "    }\n",
       "</style>\n",
       "<table border=\"1\" class=\"dataframe\">\n",
       "  <thead>\n",
       "    <tr style=\"text-align: right;\">\n",
       "      <th></th>\n",
       "      <th>InvoiceNo</th>\n",
       "      <th>StockCode</th>\n",
       "      <th>Description</th>\n",
       "      <th>Quantity</th>\n",
       "      <th>InvoiceDate</th>\n",
       "      <th>UnitPrice</th>\n",
       "      <th>CustomerID</th>\n",
       "      <th>Country</th>\n",
       "    </tr>\n",
       "  </thead>\n",
       "  <tbody>\n",
       "    <tr>\n",
       "      <th>26</th>\n",
       "      <td>536370</td>\n",
       "      <td>22728</td>\n",
       "      <td>ALARM CLOCK BAKELIKE PINK</td>\n",
       "      <td>24</td>\n",
       "      <td>2010-12-01 08:45:00</td>\n",
       "      <td>3.75</td>\n",
       "      <td>12583.0</td>\n",
       "      <td>France</td>\n",
       "    </tr>\n",
       "    <tr>\n",
       "      <th>27</th>\n",
       "      <td>536370</td>\n",
       "      <td>22727</td>\n",
       "      <td>ALARM CLOCK BAKELIKE RED</td>\n",
       "      <td>24</td>\n",
       "      <td>2010-12-01 08:45:00</td>\n",
       "      <td>3.75</td>\n",
       "      <td>12583.0</td>\n",
       "      <td>France</td>\n",
       "    </tr>\n",
       "    <tr>\n",
       "      <th>28</th>\n",
       "      <td>536370</td>\n",
       "      <td>22726</td>\n",
       "      <td>ALARM CLOCK BAKELIKE GREEN</td>\n",
       "      <td>12</td>\n",
       "      <td>2010-12-01 08:45:00</td>\n",
       "      <td>3.75</td>\n",
       "      <td>12583.0</td>\n",
       "      <td>France</td>\n",
       "    </tr>\n",
       "    <tr>\n",
       "      <th>29</th>\n",
       "      <td>536370</td>\n",
       "      <td>21724</td>\n",
       "      <td>PANDA AND BUNNIES STICKER SHEET</td>\n",
       "      <td>12</td>\n",
       "      <td>2010-12-01 08:45:00</td>\n",
       "      <td>0.85</td>\n",
       "      <td>12583.0</td>\n",
       "      <td>France</td>\n",
       "    </tr>\n",
       "    <tr>\n",
       "      <th>30</th>\n",
       "      <td>536370</td>\n",
       "      <td>21883</td>\n",
       "      <td>STARS GIFT TAPE</td>\n",
       "      <td>24</td>\n",
       "      <td>2010-12-01 08:45:00</td>\n",
       "      <td>0.65</td>\n",
       "      <td>12583.0</td>\n",
       "      <td>France</td>\n",
       "    </tr>\n",
       "  </tbody>\n",
       "</table>\n",
       "</div>"
      ],
      "text/plain": [
       "   InvoiceNo StockCode                      Description  Quantity  \\\n",
       "26    536370     22728        ALARM CLOCK BAKELIKE PINK        24   \n",
       "27    536370     22727        ALARM CLOCK BAKELIKE RED         24   \n",
       "28    536370     22726       ALARM CLOCK BAKELIKE GREEN        12   \n",
       "29    536370     21724  PANDA AND BUNNIES STICKER SHEET        12   \n",
       "30    536370     21883                 STARS GIFT TAPE         24   \n",
       "\n",
       "           InvoiceDate  UnitPrice  CustomerID Country  \n",
       "26 2010-12-01 08:45:00       3.75     12583.0  France  \n",
       "27 2010-12-01 08:45:00       3.75     12583.0  France  \n",
       "28 2010-12-01 08:45:00       3.75     12583.0  France  \n",
       "29 2010-12-01 08:45:00       0.85     12583.0  France  \n",
       "30 2010-12-01 08:45:00       0.65     12583.0  France  "
      ]
     },
     "execution_count": 11,
     "metadata": {},
     "output_type": "execute_result"
    }
   ],
   "source": [
    "France_data.head()"
   ]
  },
  {
   "cell_type": "code",
   "execution_count": 12,
   "id": "029ab392",
   "metadata": {},
   "outputs": [
    {
     "data": {
      "text/html": [
       "<div>\n",
       "<style scoped>\n",
       "    .dataframe tbody tr th:only-of-type {\n",
       "        vertical-align: middle;\n",
       "    }\n",
       "\n",
       "    .dataframe tbody tr th {\n",
       "        vertical-align: top;\n",
       "    }\n",
       "\n",
       "    .dataframe thead th {\n",
       "        text-align: right;\n",
       "    }\n",
       "</style>\n",
       "<table border=\"1\" class=\"dataframe\">\n",
       "  <thead>\n",
       "    <tr style=\"text-align: right;\">\n",
       "      <th></th>\n",
       "      <th>InvoiceNo</th>\n",
       "      <th>StockCode</th>\n",
       "      <th>Description</th>\n",
       "      <th>Quantity</th>\n",
       "      <th>InvoiceDate</th>\n",
       "      <th>UnitPrice</th>\n",
       "      <th>CustomerID</th>\n",
       "      <th>Country</th>\n",
       "    </tr>\n",
       "  </thead>\n",
       "  <tbody>\n",
       "    <tr>\n",
       "      <th>1404</th>\n",
       "      <td>536540</td>\n",
       "      <td>22968</td>\n",
       "      <td>ROSE COTTAGE KEEPSAKE BOX</td>\n",
       "      <td>4</td>\n",
       "      <td>2010-12-01 14:05:00</td>\n",
       "      <td>9.95</td>\n",
       "      <td>14911.0</td>\n",
       "      <td>EIRE</td>\n",
       "    </tr>\n",
       "    <tr>\n",
       "      <th>1405</th>\n",
       "      <td>536540</td>\n",
       "      <td>85071A</td>\n",
       "      <td>BLUE CHARLIE+LOLA PERSONAL DOORSIGN</td>\n",
       "      <td>6</td>\n",
       "      <td>2010-12-01 14:05:00</td>\n",
       "      <td>2.95</td>\n",
       "      <td>14911.0</td>\n",
       "      <td>EIRE</td>\n",
       "    </tr>\n",
       "    <tr>\n",
       "      <th>1406</th>\n",
       "      <td>536540</td>\n",
       "      <td>85071C</td>\n",
       "      <td>CHARLIE+LOLA\"EXTREMELY BUSY\" SIGN</td>\n",
       "      <td>6</td>\n",
       "      <td>2010-12-01 14:05:00</td>\n",
       "      <td>2.55</td>\n",
       "      <td>14911.0</td>\n",
       "      <td>EIRE</td>\n",
       "    </tr>\n",
       "    <tr>\n",
       "      <th>1407</th>\n",
       "      <td>536540</td>\n",
       "      <td>22355</td>\n",
       "      <td>CHARLOTTE BAG SUKI DESIGN</td>\n",
       "      <td>50</td>\n",
       "      <td>2010-12-01 14:05:00</td>\n",
       "      <td>0.85</td>\n",
       "      <td>14911.0</td>\n",
       "      <td>EIRE</td>\n",
       "    </tr>\n",
       "    <tr>\n",
       "      <th>1408</th>\n",
       "      <td>536540</td>\n",
       "      <td>21579</td>\n",
       "      <td>LOLITA  DESIGN  COTTON TOTE BAG</td>\n",
       "      <td>6</td>\n",
       "      <td>2010-12-01 14:05:00</td>\n",
       "      <td>2.25</td>\n",
       "      <td>14911.0</td>\n",
       "      <td>EIRE</td>\n",
       "    </tr>\n",
       "    <tr>\n",
       "      <th>...</th>\n",
       "      <td>...</td>\n",
       "      <td>...</td>\n",
       "      <td>...</td>\n",
       "      <td>...</td>\n",
       "      <td>...</td>\n",
       "      <td>...</td>\n",
       "      <td>...</td>\n",
       "      <td>...</td>\n",
       "    </tr>\n",
       "    <tr>\n",
       "      <th>541904</th>\n",
       "      <td>581587</td>\n",
       "      <td>22613</td>\n",
       "      <td>PACK OF 20 SPACEBOY NAPKINS</td>\n",
       "      <td>12</td>\n",
       "      <td>2011-12-09 12:50:00</td>\n",
       "      <td>0.85</td>\n",
       "      <td>12680.0</td>\n",
       "      <td>France</td>\n",
       "    </tr>\n",
       "    <tr>\n",
       "      <th>541905</th>\n",
       "      <td>581587</td>\n",
       "      <td>22899</td>\n",
       "      <td>CHILDREN'S APRON DOLLY GIRL</td>\n",
       "      <td>6</td>\n",
       "      <td>2011-12-09 12:50:00</td>\n",
       "      <td>2.10</td>\n",
       "      <td>12680.0</td>\n",
       "      <td>France</td>\n",
       "    </tr>\n",
       "    <tr>\n",
       "      <th>541906</th>\n",
       "      <td>581587</td>\n",
       "      <td>23254</td>\n",
       "      <td>CHILDRENS CUTLERY DOLLY GIRL</td>\n",
       "      <td>4</td>\n",
       "      <td>2011-12-09 12:50:00</td>\n",
       "      <td>4.15</td>\n",
       "      <td>12680.0</td>\n",
       "      <td>France</td>\n",
       "    </tr>\n",
       "    <tr>\n",
       "      <th>541907</th>\n",
       "      <td>581587</td>\n",
       "      <td>23255</td>\n",
       "      <td>CHILDRENS CUTLERY CIRCUS PARADE</td>\n",
       "      <td>4</td>\n",
       "      <td>2011-12-09 12:50:00</td>\n",
       "      <td>4.15</td>\n",
       "      <td>12680.0</td>\n",
       "      <td>France</td>\n",
       "    </tr>\n",
       "    <tr>\n",
       "      <th>541908</th>\n",
       "      <td>581587</td>\n",
       "      <td>22138</td>\n",
       "      <td>BAKING SET 9 PIECE RETROSPOT</td>\n",
       "      <td>3</td>\n",
       "      <td>2011-12-09 12:50:00</td>\n",
       "      <td>4.95</td>\n",
       "      <td>12680.0</td>\n",
       "      <td>France</td>\n",
       "    </tr>\n",
       "  </tbody>\n",
       "</table>\n",
       "<p>16899 rows × 8 columns</p>\n",
       "</div>"
      ],
      "text/plain": [
       "       InvoiceNo StockCode                          Description  Quantity  \\\n",
       "1404      536540     22968           ROSE COTTAGE KEEPSAKE BOX          4   \n",
       "1405      536540    85071A  BLUE CHARLIE+LOLA PERSONAL DOORSIGN         6   \n",
       "1406      536540    85071C    CHARLIE+LOLA\"EXTREMELY BUSY\" SIGN         6   \n",
       "1407      536540     22355            CHARLOTTE BAG SUKI DESIGN        50   \n",
       "1408      536540     21579      LOLITA  DESIGN  COTTON TOTE BAG         6   \n",
       "...          ...       ...                                  ...       ...   \n",
       "541904    581587     22613          PACK OF 20 SPACEBOY NAPKINS        12   \n",
       "541905    581587     22899         CHILDREN'S APRON DOLLY GIRL          6   \n",
       "541906    581587     23254        CHILDRENS CUTLERY DOLLY GIRL          4   \n",
       "541907    581587     23255      CHILDRENS CUTLERY CIRCUS PARADE         4   \n",
       "541908    581587     22138        BAKING SET 9 PIECE RETROSPOT          3   \n",
       "\n",
       "               InvoiceDate  UnitPrice  CustomerID Country  \n",
       "1404   2010-12-01 14:05:00       9.95     14911.0    EIRE  \n",
       "1405   2010-12-01 14:05:00       2.95     14911.0    EIRE  \n",
       "1406   2010-12-01 14:05:00       2.55     14911.0    EIRE  \n",
       "1407   2010-12-01 14:05:00       0.85     14911.0    EIRE  \n",
       "1408   2010-12-01 14:05:00       2.25     14911.0    EIRE  \n",
       "...                    ...        ...         ...     ...  \n",
       "541904 2011-12-09 12:50:00       0.85     12680.0  France  \n",
       "541905 2011-12-09 12:50:00       2.10     12680.0  France  \n",
       "541906 2011-12-09 12:50:00       4.15     12680.0  France  \n",
       "541907 2011-12-09 12:50:00       4.15     12680.0  France  \n",
       "541908 2011-12-09 12:50:00       4.95     12680.0  France  \n",
       "\n",
       "[16899 rows x 8 columns]"
      ]
     },
     "execution_count": 12,
     "metadata": {},
     "output_type": "execute_result"
    }
   ],
   "source": [
    "combined_data = pd.concat([EIRE_data,Greece_Data,France_data])\n",
    "combined_data"
   ]
  },
  {
   "cell_type": "code",
   "execution_count": 13,
   "id": "bebbd861",
   "metadata": {},
   "outputs": [
    {
     "data": {
      "text/html": [
       "<div>\n",
       "<style scoped>\n",
       "    .dataframe tbody tr th:only-of-type {\n",
       "        vertical-align: middle;\n",
       "    }\n",
       "\n",
       "    .dataframe tbody tr th {\n",
       "        vertical-align: top;\n",
       "    }\n",
       "\n",
       "    .dataframe thead th {\n",
       "        text-align: right;\n",
       "    }\n",
       "</style>\n",
       "<table border=\"1\" class=\"dataframe\">\n",
       "  <thead>\n",
       "    <tr style=\"text-align: right;\">\n",
       "      <th></th>\n",
       "      <th>InvoiceNo</th>\n",
       "      <th>StockCode</th>\n",
       "      <th>Description</th>\n",
       "      <th>Quantity</th>\n",
       "      <th>InvoiceDate</th>\n",
       "      <th>UnitPrice</th>\n",
       "      <th>CustomerID</th>\n",
       "      <th>Country_EIRE</th>\n",
       "      <th>Country_France</th>\n",
       "      <th>Country_Greece</th>\n",
       "    </tr>\n",
       "  </thead>\n",
       "  <tbody>\n",
       "    <tr>\n",
       "      <th>1404</th>\n",
       "      <td>536540</td>\n",
       "      <td>22968</td>\n",
       "      <td>ROSE COTTAGE KEEPSAKE BOX</td>\n",
       "      <td>4</td>\n",
       "      <td>2010-12-01 14:05:00</td>\n",
       "      <td>9.95</td>\n",
       "      <td>14911.0</td>\n",
       "      <td>1</td>\n",
       "      <td>0</td>\n",
       "      <td>0</td>\n",
       "    </tr>\n",
       "    <tr>\n",
       "      <th>1405</th>\n",
       "      <td>536540</td>\n",
       "      <td>85071A</td>\n",
       "      <td>BLUE CHARLIE+LOLA PERSONAL DOORSIGN</td>\n",
       "      <td>6</td>\n",
       "      <td>2010-12-01 14:05:00</td>\n",
       "      <td>2.95</td>\n",
       "      <td>14911.0</td>\n",
       "      <td>1</td>\n",
       "      <td>0</td>\n",
       "      <td>0</td>\n",
       "    </tr>\n",
       "    <tr>\n",
       "      <th>1406</th>\n",
       "      <td>536540</td>\n",
       "      <td>85071C</td>\n",
       "      <td>CHARLIE+LOLA\"EXTREMELY BUSY\" SIGN</td>\n",
       "      <td>6</td>\n",
       "      <td>2010-12-01 14:05:00</td>\n",
       "      <td>2.55</td>\n",
       "      <td>14911.0</td>\n",
       "      <td>1</td>\n",
       "      <td>0</td>\n",
       "      <td>0</td>\n",
       "    </tr>\n",
       "    <tr>\n",
       "      <th>1407</th>\n",
       "      <td>536540</td>\n",
       "      <td>22355</td>\n",
       "      <td>CHARLOTTE BAG SUKI DESIGN</td>\n",
       "      <td>50</td>\n",
       "      <td>2010-12-01 14:05:00</td>\n",
       "      <td>0.85</td>\n",
       "      <td>14911.0</td>\n",
       "      <td>1</td>\n",
       "      <td>0</td>\n",
       "      <td>0</td>\n",
       "    </tr>\n",
       "    <tr>\n",
       "      <th>1408</th>\n",
       "      <td>536540</td>\n",
       "      <td>21579</td>\n",
       "      <td>LOLITA  DESIGN  COTTON TOTE BAG</td>\n",
       "      <td>6</td>\n",
       "      <td>2010-12-01 14:05:00</td>\n",
       "      <td>2.25</td>\n",
       "      <td>14911.0</td>\n",
       "      <td>1</td>\n",
       "      <td>0</td>\n",
       "      <td>0</td>\n",
       "    </tr>\n",
       "  </tbody>\n",
       "</table>\n",
       "</div>"
      ],
      "text/plain": [
       "     InvoiceNo StockCode                          Description  Quantity  \\\n",
       "1404    536540     22968           ROSE COTTAGE KEEPSAKE BOX          4   \n",
       "1405    536540    85071A  BLUE CHARLIE+LOLA PERSONAL DOORSIGN         6   \n",
       "1406    536540    85071C    CHARLIE+LOLA\"EXTREMELY BUSY\" SIGN         6   \n",
       "1407    536540     22355            CHARLOTTE BAG SUKI DESIGN        50   \n",
       "1408    536540     21579      LOLITA  DESIGN  COTTON TOTE BAG         6   \n",
       "\n",
       "             InvoiceDate  UnitPrice  CustomerID  Country_EIRE  Country_France  \\\n",
       "1404 2010-12-01 14:05:00       9.95     14911.0             1               0   \n",
       "1405 2010-12-01 14:05:00       2.95     14911.0             1               0   \n",
       "1406 2010-12-01 14:05:00       2.55     14911.0             1               0   \n",
       "1407 2010-12-01 14:05:00       0.85     14911.0             1               0   \n",
       "1408 2010-12-01 14:05:00       2.25     14911.0             1               0   \n",
       "\n",
       "      Country_Greece  \n",
       "1404               0  \n",
       "1405               0  \n",
       "1406               0  \n",
       "1407               0  \n",
       "1408               0  "
      ]
     },
     "execution_count": 13,
     "metadata": {},
     "output_type": "execute_result"
    }
   ],
   "source": [
    "one_hot_encoded = pd.get_dummies(combined_data, columns = [\"Country\"])\n",
    "one_hot_encoded.head() #Used one hot encoding to create columns of different countries..."
   ]
  },
  {
   "cell_type": "code",
   "execution_count": 14,
   "id": "f947e60a",
   "metadata": {},
   "outputs": [
    {
     "data": {
      "text/plain": [
       "array(['2010-12-01T14:05:00.000000000', '2010-12-02T16:33:00.000000000',\n",
       "       '2010-12-02T17:08:00.000000000', '2010-12-03T11:42:00.000000000',\n",
       "       '2010-12-03T11:48:00.000000000', '2010-12-03T14:04:00.000000000',\n",
       "       '2010-12-06T12:40:00.000000000', '2010-12-06T13:06:00.000000000',\n",
       "       '2010-12-06T13:32:00.000000000', '2010-12-09T12:17:00.000000000',\n",
       "       '2010-12-10T12:33:00.000000000', '2010-12-16T12:56:00.000000000',\n",
       "       '2010-12-16T19:16:00.000000000', '2010-12-17T10:46:00.000000000',\n",
       "       '2010-12-17T14:21:00.000000000', '2010-12-19T14:24:00.000000000',\n",
       "       '2010-12-20T12:25:00.000000000', '2010-12-20T14:05:00.000000000',\n",
       "       '2010-12-21T13:45:00.000000000', '2010-12-23T11:48:00.000000000',\n",
       "       '2010-12-23T14:58:00.000000000', '2011-01-05T12:02:00.000000000',\n",
       "       '2011-01-09T16:07:00.000000000', '2011-01-10T10:07:00.000000000',\n",
       "       '2011-01-14T14:11:00.000000000', '2011-01-18T10:22:00.000000000',\n",
       "       '2011-01-20T12:34:00.000000000', '2011-01-24T14:54:00.000000000',\n",
       "       '2011-01-26T12:29:00.000000000', '2011-01-27T10:43:00.000000000',\n",
       "       '2011-02-01T08:31:00.000000000', '2011-02-02T14:24:00.000000000',\n",
       "       '2011-02-03T13:26:00.000000000', '2011-02-04T10:31:00.000000000',\n",
       "       '2011-02-08T11:40:00.000000000', '2011-02-14T09:45:00.000000000',\n",
       "       '2011-02-14T12:11:00.000000000', '2011-02-15T14:49:00.000000000',\n",
       "       '2011-02-15T14:50:00.000000000', '2011-02-17T11:01:00.000000000',\n",
       "       '2011-02-18T11:36:00.000000000', '2011-02-21T08:33:00.000000000',\n",
       "       '2011-02-21T08:35:00.000000000', '2011-02-23T08:48:00.000000000',\n",
       "       '2011-02-25T16:26:00.000000000', '2011-03-01T14:47:00.000000000',\n",
       "       '2011-03-03T11:42:00.000000000', '2011-03-04T12:12:00.000000000',\n",
       "       '2011-03-04T14:02:00.000000000', '2011-03-10T10:32:00.000000000',\n",
       "       '2011-03-10T11:33:00.000000000', '2011-03-10T11:37:00.000000000',\n",
       "       '2011-03-10T15:01:00.000000000', '2011-03-11T10:15:00.000000000',\n",
       "       '2011-03-11T10:18:00.000000000', '2011-03-11T10:19:00.000000000',\n",
       "       '2011-03-11T10:22:00.000000000', '2011-03-14T12:15:00.000000000',\n",
       "       '2011-03-14T12:28:00.000000000', '2011-03-14T15:11:00.000000000',\n",
       "       '2011-03-15T10:53:00.000000000', '2011-03-15T11:09:00.000000000',\n",
       "       '2011-03-15T14:32:00.000000000', '2011-03-17T15:03:00.000000000',\n",
       "       '2011-03-17T18:20:00.000000000', '2011-03-18T09:17:00.000000000',\n",
       "       '2011-03-20T11:52:00.000000000', '2011-03-24T16:45:00.000000000',\n",
       "       '2011-03-25T12:04:00.000000000', '2011-03-27T12:16:00.000000000',\n",
       "       '2011-03-28T07:53:00.000000000', '2011-03-29T09:59:00.000000000',\n",
       "       '2011-03-31T11:08:00.000000000', '2011-04-01T14:45:00.000000000',\n",
       "       '2011-04-04T08:50:00.000000000', '2011-04-04T13:29:00.000000000',\n",
       "       '2011-04-06T13:18:00.000000000', '2011-04-07T10:33:00.000000000',\n",
       "       '2011-04-07T11:41:00.000000000', '2011-04-11T12:20:00.000000000',\n",
       "       '2011-04-11T15:35:00.000000000', '2011-04-17T10:17:00.000000000',\n",
       "       '2011-04-19T13:09:00.000000000', '2011-04-27T10:02:00.000000000',\n",
       "       '2011-05-03T12:10:00.000000000', '2011-05-03T12:12:00.000000000',\n",
       "       '2011-05-05T11:38:00.000000000', '2011-05-05T15:53:00.000000000',\n",
       "       '2011-05-06T08:08:00.000000000', '2011-05-08T11:37:00.000000000',\n",
       "       '2011-05-10T10:17:00.000000000', '2011-05-10T10:18:00.000000000',\n",
       "       '2011-05-10T10:19:00.000000000', '2011-05-15T16:10:00.000000000',\n",
       "       '2011-05-16T08:16:00.000000000', '2011-05-16T09:40:00.000000000',\n",
       "       '2011-05-16T13:20:00.000000000', '2011-05-16T14:52:00.000000000',\n",
       "       '2011-05-16T14:53:00.000000000', '2011-05-17T14:07:00.000000000',\n",
       "       '2011-05-17T15:13:00.000000000', '2011-05-17T15:17:00.000000000',\n",
       "       '2011-05-18T13:58:00.000000000', '2011-05-19T17:23:00.000000000',\n",
       "       '2011-05-19T17:48:00.000000000', '2011-05-20T10:27:00.000000000',\n",
       "       '2011-05-23T10:34:00.000000000', '2011-05-24T17:47:00.000000000',\n",
       "       '2011-05-26T11:40:00.000000000', '2011-05-26T11:43:00.000000000',\n",
       "       '2011-05-26T12:10:00.000000000', '2011-05-26T12:12:00.000000000',\n",
       "       '2011-06-01T16:34:00.000000000', '2011-06-06T13:48:00.000000000',\n",
       "       '2011-06-07T14:12:00.000000000', '2011-06-08T10:45:00.000000000',\n",
       "       '2011-06-08T14:03:00.000000000', '2011-06-09T10:23:00.000000000',\n",
       "       '2011-06-09T13:46:00.000000000', '2011-06-13T10:36:00.000000000',\n",
       "       '2011-06-15T14:47:00.000000000', '2011-06-15T14:48:00.000000000',\n",
       "       '2011-06-16T08:16:00.000000000', '2011-06-17T09:23:00.000000000',\n",
       "       '2011-06-19T16:11:00.000000000', '2011-06-20T11:00:00.000000000',\n",
       "       '2011-06-20T11:01:00.000000000', '2011-06-20T11:02:00.000000000',\n",
       "       '2011-06-21T12:06:00.000000000', '2011-06-21T17:59:00.000000000',\n",
       "       '2011-06-21T18:00:00.000000000', '2011-06-22T11:46:00.000000000',\n",
       "       '2011-06-22T13:52:00.000000000', '2011-06-23T12:42:00.000000000',\n",
       "       '2011-06-23T13:05:00.000000000', '2011-06-23T13:15:00.000000000',\n",
       "       '2011-06-23T13:16:00.000000000', '2011-06-24T13:47:00.000000000',\n",
       "       '2011-06-24T13:51:00.000000000', '2011-06-24T13:52:00.000000000',\n",
       "       '2011-06-24T15:51:00.000000000', '2011-06-27T08:48:00.000000000',\n",
       "       '2011-06-27T08:49:00.000000000', '2011-06-29T10:00:00.000000000',\n",
       "       '2011-06-29T10:50:00.000000000', '2011-06-29T12:15:00.000000000',\n",
       "       '2011-06-30T15:46:00.000000000', '2011-07-01T08:58:00.000000000',\n",
       "       '2011-07-01T10:16:00.000000000', '2011-07-01T11:29:00.000000000',\n",
       "       '2011-07-04T12:38:00.000000000', '2011-07-04T12:39:00.000000000',\n",
       "       '2011-07-04T12:40:00.000000000', '2011-07-05T12:50:00.000000000',\n",
       "       '2011-07-08T14:27:00.000000000', '2011-07-14T10:42:00.000000000',\n",
       "       '2011-07-14T13:51:00.000000000', '2011-07-14T14:46:00.000000000',\n",
       "       '2011-07-18T08:32:00.000000000', '2011-07-18T10:29:00.000000000',\n",
       "       '2011-07-19T09:08:00.000000000', '2011-07-19T09:10:00.000000000',\n",
       "       '2011-07-19T09:50:00.000000000', '2011-07-19T12:10:00.000000000',\n",
       "       '2011-07-19T13:37:00.000000000', '2011-07-21T17:09:00.000000000',\n",
       "       '2011-07-21T18:19:00.000000000', '2011-07-21T19:34:00.000000000',\n",
       "       '2011-07-26T10:32:00.000000000', '2011-07-26T12:00:00.000000000',\n",
       "       '2011-07-27T13:14:00.000000000', '2011-07-27T13:15:00.000000000',\n",
       "       '2011-07-28T14:27:00.000000000', '2011-07-28T15:16:00.000000000',\n",
       "       '2011-07-28T17:00:00.000000000', '2011-07-29T13:39:00.000000000',\n",
       "       '2011-07-31T11:45:00.000000000', '2011-07-31T15:42:00.000000000',\n",
       "       '2011-08-04T14:40:00.000000000', '2011-08-04T14:46:00.000000000',\n",
       "       '2011-08-05T17:12:00.000000000', '2011-08-08T12:31:00.000000000',\n",
       "       '2011-08-08T13:42:00.000000000', '2011-08-10T17:11:00.000000000',\n",
       "       '2011-08-10T17:14:00.000000000', '2011-08-11T10:22:00.000000000',\n",
       "       '2011-08-11T11:42:00.000000000', '2011-08-12T09:14:00.000000000',\n",
       "       '2011-08-12T12:42:00.000000000', '2011-08-14T14:35:00.000000000',\n",
       "       '2011-08-15T14:39:00.000000000', '2011-08-16T10:27:00.000000000',\n",
       "       '2011-08-17T12:29:00.000000000', '2011-08-17T13:40:00.000000000',\n",
       "       '2011-08-17T13:45:00.000000000', '2011-08-18T06:24:00.000000000',\n",
       "       '2011-08-18T12:26:00.000000000', '2011-08-19T14:57:00.000000000',\n",
       "       '2011-08-21T13:11:00.000000000', '2011-08-23T09:16:00.000000000',\n",
       "       '2011-08-23T09:17:00.000000000', '2011-08-23T15:11:00.000000000',\n",
       "       '2011-08-26T10:50:00.000000000', '2011-08-26T14:29:00.000000000',\n",
       "       '2011-08-30T08:00:00.000000000', '2011-08-30T10:40:00.000000000',\n",
       "       '2011-09-01T17:19:00.000000000', '2011-09-01T17:20:00.000000000',\n",
       "       '2011-09-02T11:43:00.000000000', '2011-09-04T11:36:00.000000000',\n",
       "       '2011-09-05T10:34:00.000000000', '2011-09-05T10:47:00.000000000',\n",
       "       '2011-09-05T10:48:00.000000000', '2011-09-05T12:38:00.000000000',\n",
       "       '2011-09-06T12:38:00.000000000', '2011-09-06T12:44:00.000000000',\n",
       "       '2011-09-07T10:23:00.000000000', '2011-09-07T13:06:00.000000000',\n",
       "       '2011-09-07T14:13:00.000000000', '2011-09-07T16:00:00.000000000',\n",
       "       '2011-09-08T10:08:00.000000000', '2011-09-08T10:09:00.000000000',\n",
       "       '2011-09-09T10:24:00.000000000', '2011-09-09T11:57:00.000000000',\n",
       "       '2011-09-14T09:38:00.000000000', '2011-09-14T15:42:00.000000000',\n",
       "       '2011-09-14T15:48:00.000000000', '2011-09-15T09:53:00.000000000',\n",
       "       '2011-09-15T09:55:00.000000000', '2011-09-15T11:54:00.000000000',\n",
       "       '2011-09-19T14:55:00.000000000', '2011-09-19T15:53:00.000000000',\n",
       "       '2011-09-20T10:01:00.000000000', '2011-09-20T11:35:00.000000000',\n",
       "       '2011-09-20T16:28:00.000000000', '2011-09-21T12:23:00.000000000',\n",
       "       '2011-09-22T10:37:00.000000000', '2011-09-22T16:26:00.000000000',\n",
       "       '2011-09-22T16:27:00.000000000', '2011-09-23T09:23:00.000000000',\n",
       "       '2011-09-23T12:36:00.000000000', '2011-09-23T14:49:00.000000000',\n",
       "       '2011-09-26T10:05:00.000000000', '2011-09-26T12:48:00.000000000',\n",
       "       '2011-09-27T08:53:00.000000000', '2011-09-27T11:10:00.000000000',\n",
       "       '2011-09-28T12:20:00.000000000', '2011-09-28T12:21:00.000000000',\n",
       "       '2011-09-28T12:50:00.000000000', '2011-09-28T14:57:00.000000000',\n",
       "       '2011-09-28T15:32:00.000000000', '2011-09-28T15:33:00.000000000',\n",
       "       '2011-09-30T07:36:00.000000000', '2011-09-30T10:20:00.000000000',\n",
       "       '2011-09-30T12:50:00.000000000', '2011-09-30T13:46:00.000000000',\n",
       "       '2011-09-30T14:48:00.000000000', '2011-10-06T10:48:00.000000000',\n",
       "       '2011-10-07T10:06:00.000000000', '2011-10-10T09:18:00.000000000',\n",
       "       '2011-10-10T12:37:00.000000000', '2011-10-10T17:08:00.000000000',\n",
       "       '2011-10-10T17:09:00.000000000', '2011-10-11T13:34:00.000000000',\n",
       "       '2011-10-11T14:10:00.000000000', '2011-10-11T14:59:00.000000000',\n",
       "       '2011-10-12T08:10:00.000000000', '2011-10-12T09:29:00.000000000',\n",
       "       '2011-10-12T09:50:00.000000000', '2011-10-12T10:04:00.000000000',\n",
       "       '2011-10-12T13:15:00.000000000', '2011-10-12T13:25:00.000000000',\n",
       "       '2011-10-12T14:08:00.000000000', '2011-10-14T10:03:00.000000000',\n",
       "       '2011-10-17T10:42:00.000000000', '2011-10-17T10:43:00.000000000',\n",
       "       '2011-10-17T11:56:00.000000000', '2011-10-17T12:25:00.000000000',\n",
       "       '2011-10-17T12:41:00.000000000', '2011-10-17T13:46:00.000000000',\n",
       "       '2011-10-17T13:47:00.000000000', '2011-10-18T09:32:00.000000000',\n",
       "       '2011-10-18T10:04:00.000000000', '2011-10-19T10:48:00.000000000',\n",
       "       '2011-10-20T09:28:00.000000000', '2011-10-20T13:24:00.000000000',\n",
       "       '2011-10-20T19:29:00.000000000', '2011-10-21T08:47:00.000000000',\n",
       "       '2011-10-21T09:20:00.000000000', '2011-10-24T12:53:00.000000000',\n",
       "       '2011-10-24T13:51:00.000000000', '2011-10-27T12:39:00.000000000',\n",
       "       '2011-10-30T14:57:00.000000000', '2011-10-31T14:22:00.000000000',\n",
       "       '2011-11-01T09:24:00.000000000', '2011-11-01T13:57:00.000000000',\n",
       "       '2011-11-02T16:16:00.000000000', '2011-11-04T13:13:00.000000000',\n",
       "       '2011-11-04T13:58:00.000000000', '2011-11-07T08:26:00.000000000',\n",
       "       '2011-11-07T11:42:00.000000000', '2011-11-07T13:06:00.000000000',\n",
       "       '2011-11-07T17:15:00.000000000', '2011-11-08T13:28:00.000000000',\n",
       "       '2011-11-08T16:23:00.000000000', '2011-11-08T17:56:00.000000000',\n",
       "       '2011-11-09T13:47:00.000000000', '2011-11-09T17:07:00.000000000',\n",
       "       '2011-11-10T19:40:00.000000000', '2011-11-11T08:46:00.000000000',\n",
       "       '2011-11-11T10:32:00.000000000', '2011-11-11T12:52:00.000000000',\n",
       "       '2011-11-13T10:41:00.000000000', '2011-11-13T13:03:00.000000000',\n",
       "       '2011-11-13T13:05:00.000000000', '2011-11-13T14:45:00.000000000',\n",
       "       '2011-11-14T10:47:00.000000000', '2011-11-15T08:07:00.000000000',\n",
       "       '2011-11-15T14:56:00.000000000', '2011-11-15T14:57:00.000000000',\n",
       "       '2011-11-15T15:20:00.000000000', '2011-11-15T15:22:00.000000000',\n",
       "       '2011-11-16T10:45:00.000000000', '2011-11-16T14:40:00.000000000',\n",
       "       '2011-11-16T17:03:00.000000000', '2011-11-17T08:49:00.000000000',\n",
       "       '2011-11-17T14:40:00.000000000', '2011-11-18T15:53:00.000000000',\n",
       "       '2011-11-18T16:50:00.000000000', '2011-11-18T16:58:00.000000000',\n",
       "       '2011-11-20T11:34:00.000000000', '2011-11-21T09:21:00.000000000',\n",
       "       '2011-11-21T10:02:00.000000000', '2011-11-22T09:53:00.000000000',\n",
       "       '2011-11-22T11:04:00.000000000', '2011-11-22T14:59:00.000000000',\n",
       "       '2011-11-22T17:21:00.000000000', '2011-11-23T08:47:00.000000000',\n",
       "       '2011-11-23T10:57:00.000000000', '2011-11-24T08:44:00.000000000',\n",
       "       '2011-11-25T12:20:00.000000000', '2011-11-27T15:44:00.000000000',\n",
       "       '2011-11-28T10:31:00.000000000', '2011-11-28T11:33:00.000000000',\n",
       "       '2011-11-30T10:06:00.000000000', '2011-11-30T10:54:00.000000000',\n",
       "       '2011-11-30T15:08:00.000000000', '2011-12-01T08:48:00.000000000',\n",
       "       '2011-12-01T08:52:00.000000000', '2011-12-01T13:12:00.000000000',\n",
       "       '2011-12-01T17:12:00.000000000', '2011-12-01T17:51:00.000000000',\n",
       "       '2011-12-04T15:28:00.000000000', '2011-12-05T10:18:00.000000000',\n",
       "       '2011-12-05T10:19:00.000000000', '2011-12-07T08:38:00.000000000',\n",
       "       '2011-12-07T08:45:00.000000000', '2011-12-07T11:42:00.000000000',\n",
       "       '2011-12-08T15:54:00.000000000', '2011-01-24T11:39:00.000000000',\n",
       "       '2011-03-04T08:10:00.000000000', '2011-04-08T10:32:00.000000000',\n",
       "       '2011-07-11T14:47:00.000000000', '2011-07-11T14:51:00.000000000',\n",
       "       '2011-12-06T09:56:00.000000000', '2010-12-01T08:45:00.000000000',\n",
       "       '2010-12-03T09:51:00.000000000', '2010-12-03T13:59:00.000000000',\n",
       "       '2010-12-05T11:57:00.000000000', '2010-12-07T10:08:00.000000000',\n",
       "       '2010-12-07T10:36:00.000000000', '2010-12-08T10:45:00.000000000',\n",
       "       '2010-12-09T10:14:00.000000000', '2010-12-09T10:37:00.000000000',\n",
       "       '2010-12-09T11:31:00.000000000', '2010-12-09T14:49:00.000000000',\n",
       "       '2010-12-10T10:56:00.000000000', '2010-12-15T16:21:00.000000000',\n",
       "       '2010-12-16T10:38:00.000000000', '2010-12-16T11:24:00.000000000',\n",
       "       '2010-12-17T12:56:00.000000000', '2010-12-17T14:46:00.000000000',\n",
       "       '2010-12-20T11:38:00.000000000', '2010-12-20T14:10:00.000000000',\n",
       "       '2010-12-21T11:00:00.000000000', '2010-12-21T14:26:00.000000000',\n",
       "       '2010-12-22T12:47:00.000000000', '2011-01-05T11:13:00.000000000',\n",
       "       '2011-01-05T11:36:00.000000000', '2011-01-05T12:42:00.000000000',\n",
       "       '2011-01-05T14:48:00.000000000', '2011-01-06T14:26:00.000000000',\n",
       "       '2011-01-06T16:12:00.000000000', '2011-01-06T16:17:00.000000000',\n",
       "       '2011-01-07T12:07:00.000000000', '2011-01-07T13:13:00.000000000',\n",
       "       '2011-01-09T12:46:00.000000000', '2011-01-10T13:22:00.000000000',\n",
       "       '2011-01-11T07:57:00.000000000', '2011-01-11T11:48:00.000000000',\n",
       "       '2011-01-11T13:31:00.000000000', '2011-01-11T15:00:00.000000000',\n",
       "       '2011-01-12T09:43:00.000000000', '2011-01-12T09:52:00.000000000',\n",
       "       '2011-01-12T14:13:00.000000000', '2011-01-12T15:00:00.000000000',\n",
       "       '2011-01-14T09:13:00.000000000', '2011-01-14T09:20:00.000000000',\n",
       "       '2011-01-14T10:42:00.000000000', '2011-01-17T15:17:00.000000000',\n",
       "       '2011-01-19T11:51:00.000000000', '2011-01-20T10:47:00.000000000',\n",
       "       '2011-01-20T10:48:00.000000000', '2011-01-20T16:15:00.000000000',\n",
       "       '2011-01-21T17:01:00.000000000', '2011-01-23T15:17:00.000000000',\n",
       "       '2011-01-24T15:32:00.000000000', '2011-01-25T12:36:00.000000000',\n",
       "       '2011-01-25T12:39:00.000000000', '2011-01-25T15:59:00.000000000',\n",
       "       '2011-01-27T09:40:00.000000000', '2011-01-28T09:20:00.000000000',\n",
       "       '2011-01-28T10:45:00.000000000', '2011-01-28T13:37:00.000000000',\n",
       "       '2011-01-31T09:57:00.000000000', '2011-01-31T13:28:00.000000000',\n",
       "       '2011-01-31T15:36:00.000000000', '2011-02-01T14:58:00.000000000',\n",
       "       '2011-02-02T09:06:00.000000000', '2011-02-02T15:22:00.000000000',\n",
       "       '2011-02-04T11:45:00.000000000', '2011-02-08T13:28:00.000000000',\n",
       "       '2011-02-09T10:11:00.000000000', '2011-02-10T15:38:00.000000000',\n",
       "       '2011-02-14T10:24:00.000000000', '2011-02-15T10:29:00.000000000',\n",
       "       '2011-02-15T14:17:00.000000000', '2011-02-16T11:45:00.000000000',\n",
       "       '2011-02-16T11:48:00.000000000', '2011-02-17T10:08:00.000000000',\n",
       "       '2011-02-18T10:53:00.000000000', '2011-02-18T15:22:00.000000000',\n",
       "       '2011-02-18T15:23:00.000000000', '2011-02-21T08:38:00.000000000',\n",
       "       '2011-02-21T14:58:00.000000000', '2011-02-22T10:03:00.000000000',\n",
       "       '2011-02-22T16:15:00.000000000', '2011-02-23T16:44:00.000000000',\n",
       "       '2011-02-23T16:45:00.000000000', '2011-02-27T11:58:00.000000000',\n",
       "       '2011-02-28T11:43:00.000000000', '2011-02-28T11:58:00.000000000',\n",
       "       '2011-02-28T14:42:00.000000000', '2011-02-28T14:45:00.000000000',\n",
       "       '2011-03-01T10:31:00.000000000', '2011-03-01T12:26:00.000000000',\n",
       "       '2011-03-03T12:06:00.000000000', '2011-03-03T12:20:00.000000000',\n",
       "       '2011-03-04T09:08:00.000000000', '2011-03-07T13:32:00.000000000',\n",
       "       '2011-03-08T14:35:00.000000000', '2011-03-11T12:00:00.000000000',\n",
       "       '2011-03-13T14:55:00.000000000', '2011-03-14T11:38:00.000000000',\n",
       "       '2011-03-15T10:24:00.000000000', '2011-03-15T16:39:00.000000000',\n",
       "       '2011-03-16T14:37:00.000000000', '2011-03-16T15:17:00.000000000',\n",
       "       '2011-03-20T15:58:00.000000000', '2011-03-21T12:42:00.000000000',\n",
       "       '2011-03-21T12:44:00.000000000', '2011-03-22T11:28:00.000000000',\n",
       "       '2011-03-23T12:06:00.000000000', '2011-03-23T13:33:00.000000000',\n",
       "       '2011-03-23T13:39:00.000000000', '2011-03-23T14:55:00.000000000',\n",
       "       '2011-03-25T10:19:00.000000000', '2011-03-27T13:07:00.000000000',\n",
       "       '2011-03-28T10:15:00.000000000', '2011-03-31T10:27:00.000000000',\n",
       "       '2011-03-31T10:29:00.000000000', '2011-03-31T13:40:00.000000000',\n",
       "       '2011-04-01T09:19:00.000000000', '2011-04-01T10:22:00.000000000',\n",
       "       '2011-04-01T11:10:00.000000000', '2011-04-04T09:08:00.000000000',\n",
       "       '2011-04-04T11:18:00.000000000', '2011-04-05T09:45:00.000000000',\n",
       "       '2011-04-05T09:46:00.000000000', '2011-04-07T13:07:00.000000000',\n",
       "       '2011-04-11T09:45:00.000000000', '2011-04-14T14:15:00.000000000',\n",
       "       '2011-04-14T14:23:00.000000000', '2011-04-17T11:21:00.000000000',\n",
       "       '2011-04-17T15:33:00.000000000', '2011-04-18T11:31:00.000000000',\n",
       "       '2011-04-20T09:20:00.000000000', '2011-04-21T08:54:00.000000000',\n",
       "       '2011-04-21T10:16:00.000000000', '2011-04-26T15:52:00.000000000',\n",
       "       '2011-04-27T16:28:00.000000000', '2011-04-28T11:45:00.000000000',\n",
       "       '2011-05-03T08:40:00.000000000', '2011-05-03T09:33:00.000000000',\n",
       "       '2011-05-03T09:34:00.000000000', '2011-05-03T10:09:00.000000000',\n",
       "       '2011-05-03T12:02:00.000000000', '2011-05-03T12:03:00.000000000',\n",
       "       '2011-05-05T09:29:00.000000000', '2011-05-08T16:10:00.000000000',\n",
       "       '2011-05-08T16:12:00.000000000', '2011-05-09T09:47:00.000000000',\n",
       "       '2011-05-09T11:25:00.000000000', '2011-05-09T15:12:00.000000000',\n",
       "       '2011-05-10T12:55:00.000000000', '2011-05-11T13:20:00.000000000',\n",
       "       '2011-05-11T15:07:00.000000000', '2011-05-12T11:50:00.000000000',\n",
       "       '2011-05-13T09:24:00.000000000', '2011-05-13T13:15:00.000000000',\n",
       "       '2011-05-13T15:48:00.000000000', '2011-05-15T13:45:00.000000000',\n",
       "       '2011-05-16T09:10:00.000000000', '2011-05-16T12:04:00.000000000',\n",
       "       '2011-05-16T14:17:00.000000000', '2011-05-17T09:28:00.000000000',\n",
       "       '2011-05-18T09:09:00.000000000', '2011-05-18T10:34:00.000000000',\n",
       "       '2011-05-18T12:18:00.000000000', '2011-05-19T12:10:00.000000000',\n",
       "       '2011-05-19T12:29:00.000000000', '2011-05-20T11:34:00.000000000',\n",
       "       '2011-05-20T13:54:00.000000000', '2011-05-22T13:01:00.000000000',\n",
       "       '2011-05-22T14:33:00.000000000', '2011-05-23T09:48:00.000000000',\n",
       "       '2011-05-24T09:25:00.000000000', '2011-05-25T10:08:00.000000000',\n",
       "       '2011-05-25T12:44:00.000000000', '2011-05-25T12:54:00.000000000',\n",
       "       '2011-05-26T14:53:00.000000000', '2011-05-26T17:16:00.000000000',\n",
       "       '2011-05-27T13:49:00.000000000', '2011-05-31T13:32:00.000000000',\n",
       "       '2011-05-31T13:45:00.000000000', '2011-06-05T11:53:00.000000000',\n",
       "       '2011-06-05T13:13:00.000000000', '2011-06-05T15:29:00.000000000',\n",
       "       '2011-06-06T12:47:00.000000000', '2011-06-08T08:49:00.000000000',\n",
       "       '2011-06-08T09:14:00.000000000', '2011-06-08T09:16:00.000000000',\n",
       "       '2011-06-08T09:39:00.000000000', '2011-06-08T10:10:00.000000000',\n",
       "       '2011-06-09T17:48:00.000000000', '2011-06-09T17:53:00.000000000',\n",
       "       '2011-06-10T10:38:00.000000000', '2011-06-12T10:47:00.000000000',\n",
       "       '2011-06-13T09:55:00.000000000', '2011-06-13T11:33:00.000000000',\n",
       "       '2011-06-13T11:41:00.000000000', '2011-06-15T09:01:00.000000000',\n",
       "       '2011-06-15T10:21:00.000000000', '2011-06-15T10:22:00.000000000',\n",
       "       '2011-06-15T12:34:00.000000000', '2011-06-15T14:14:00.000000000',\n",
       "       '2011-06-16T15:22:00.000000000', '2011-06-17T10:06:00.000000000',\n",
       "       '2011-06-17T15:09:00.000000000', '2011-06-19T13:37:00.000000000',\n",
       "       '2011-06-20T14:17:00.000000000', '2011-06-20T14:58:00.000000000',\n",
       "       '2011-06-21T14:30:00.000000000', '2011-06-22T09:43:00.000000000',\n",
       "       '2011-06-22T11:20:00.000000000', '2011-06-24T13:35:00.000000000',\n",
       "       '2011-06-27T10:17:00.000000000', '2011-06-28T13:11:00.000000000',\n",
       "       '2011-06-30T14:58:00.000000000', '2011-07-01T11:43:00.000000000',\n",
       "       '2011-07-01T12:17:00.000000000', '2011-07-04T11:42:00.000000000',\n",
       "       '2011-07-05T15:14:00.000000000', '2011-07-05T15:50:00.000000000',\n",
       "       '2011-07-06T13:14:00.000000000', '2011-07-08T11:36:00.000000000',\n",
       "       '2011-07-08T12:00:00.000000000', '2011-07-08T12:22:00.000000000',\n",
       "       '2011-07-11T11:39:00.000000000', '2011-07-11T15:22:00.000000000',\n",
       "       '2011-07-12T08:52:00.000000000', '2011-07-12T09:54:00.000000000',\n",
       "       '2011-07-12T11:55:00.000000000', '2011-07-12T16:58:00.000000000',\n",
       "       '2011-07-13T11:48:00.000000000', '2011-07-17T14:56:00.000000000',\n",
       "       '2011-07-18T12:05:00.000000000', '2011-07-18T14:10:00.000000000',\n",
       "       '2011-07-19T09:51:00.000000000', '2011-07-21T17:30:00.000000000',\n",
       "       '2011-07-24T11:25:00.000000000', '2011-07-28T13:41:00.000000000',\n",
       "       '2011-07-29T13:28:00.000000000', '2011-08-02T09:55:00.000000000',\n",
       "       '2011-08-03T12:56:00.000000000', '2011-08-04T10:04:00.000000000',\n",
       "       '2011-08-05T08:40:00.000000000', '2011-08-05T12:38:00.000000000',\n",
       "       '2011-08-10T12:35:00.000000000', '2011-08-12T10:31:00.000000000',\n",
       "       '2011-08-12T15:22:00.000000000', '2011-08-14T11:16:00.000000000',\n",
       "       '2011-08-15T12:53:00.000000000', '2011-08-17T08:50:00.000000000',\n",
       "       '2011-08-18T11:40:00.000000000', '2011-08-18T15:44:00.000000000',\n",
       "       '2011-08-19T10:51:00.000000000', '2011-08-21T10:44:00.000000000',\n",
       "       '2011-08-21T14:42:00.000000000', '2011-08-23T12:43:00.000000000',\n",
       "       '2011-08-23T14:23:00.000000000', '2011-08-24T10:13:00.000000000',\n",
       "       '2011-08-24T12:58:00.000000000', '2011-08-25T09:55:00.000000000',\n",
       "       '2011-08-25T12:26:00.000000000', '2011-08-25T13:12:00.000000000',\n",
       "       '2011-08-25T15:04:00.000000000', '2011-08-26T15:44:00.000000000',\n",
       "       '2011-08-31T10:24:00.000000000', '2011-08-31T11:22:00.000000000',\n",
       "       '2011-08-31T12:18:00.000000000', '2011-08-31T12:33:00.000000000',\n",
       "       '2011-09-02T09:51:00.000000000', '2011-09-02T13:14:00.000000000',\n",
       "       '2011-09-02T13:15:00.000000000', '2011-09-04T14:22:00.000000000',\n",
       "       '2011-09-05T13:38:00.000000000', '2011-09-05T15:17:00.000000000',\n",
       "       '2011-09-05T15:20:00.000000000', '2011-09-07T10:28:00.000000000',\n",
       "       '2011-09-07T13:22:00.000000000', '2011-09-07T15:07:00.000000000',\n",
       "       '2011-09-08T10:32:00.000000000', '2011-09-08T10:35:00.000000000',\n",
       "       '2011-09-09T08:48:00.000000000', '2011-09-09T10:51:00.000000000',\n",
       "       '2011-09-09T11:48:00.000000000', '2011-09-11T12:27:00.000000000',\n",
       "       '2011-09-13T10:34:00.000000000', '2011-09-14T14:19:00.000000000',\n",
       "       '2011-09-15T10:53:00.000000000', '2011-09-15T13:31:00.000000000',\n",
       "       '2011-09-15T14:50:00.000000000', '2011-09-15T17:02:00.000000000',\n",
       "       '2011-09-16T12:45:00.000000000', '2011-09-19T09:15:00.000000000',\n",
       "       '2011-09-19T12:01:00.000000000', '2011-09-19T12:19:00.000000000',\n",
       "       '2011-09-19T12:36:00.000000000', '2011-09-20T10:06:00.000000000',\n",
       "       '2011-09-21T10:40:00.000000000', '2011-09-21T12:26:00.000000000',\n",
       "       '2011-09-21T14:08:00.000000000', '2011-09-21T14:43:00.000000000',\n",
       "       '2011-09-22T10:52:00.000000000', '2011-09-22T11:40:00.000000000',\n",
       "       '2011-09-22T16:58:00.000000000', '2011-09-22T17:15:00.000000000',\n",
       "       '2011-09-22T17:19:00.000000000', '2011-09-23T12:09:00.000000000',\n",
       "       '2011-09-25T10:34:00.000000000', '2011-09-25T13:25:00.000000000',\n",
       "       '2011-09-26T12:21:00.000000000', '2011-09-27T12:53:00.000000000',\n",
       "       '2011-09-27T13:57:00.000000000', '2011-09-27T15:48:00.000000000',\n",
       "       '2011-09-28T11:38:00.000000000', '2011-09-29T10:23:00.000000000',\n",
       "       '2011-09-29T15:31:00.000000000', '2011-09-29T16:38:00.000000000',\n",
       "       '2011-09-29T16:52:00.000000000', '2011-09-30T12:06:00.000000000',\n",
       "       '2011-09-30T12:58:00.000000000', '2011-09-30T13:06:00.000000000',\n",
       "       '2011-10-03T13:46:00.000000000', '2011-10-04T09:00:00.000000000',\n",
       "       '2011-10-04T15:02:00.000000000', '2011-10-05T09:57:00.000000000',\n",
       "       '2011-10-05T14:50:00.000000000', '2011-10-05T15:52:00.000000000',\n",
       "       '2011-10-05T15:56:00.000000000', '2011-10-06T17:28:00.000000000',\n",
       "       '2011-10-06T19:36:00.000000000', '2011-10-07T10:18:00.000000000',\n",
       "       '2011-10-07T10:44:00.000000000', '2011-10-10T10:13:00.000000000',\n",
       "       '2011-10-10T11:56:00.000000000', '2011-10-10T13:03:00.000000000',\n",
       "       '2011-10-11T10:39:00.000000000', '2011-10-11T14:52:00.000000000',\n",
       "       '2011-10-12T11:22:00.000000000', '2011-10-12T12:30:00.000000000',\n",
       "       '2011-10-12T12:54:00.000000000', '2011-10-12T14:18:00.000000000',\n",
       "       '2011-10-12T14:46:00.000000000', '2011-10-13T08:42:00.000000000',\n",
       "       '2011-10-14T10:01:00.000000000', '2011-10-14T14:55:00.000000000',\n",
       "       '2011-10-17T14:38:00.000000000', '2011-10-18T13:33:00.000000000',\n",
       "       '2011-10-18T13:43:00.000000000', '2011-10-19T13:49:00.000000000',\n",
       "       '2011-10-19T16:24:00.000000000', '2011-10-20T14:30:00.000000000',\n",
       "       '2011-10-27T09:18:00.000000000', '2011-10-27T10:51:00.000000000',\n",
       "       '2011-10-27T10:57:00.000000000', '2011-10-27T13:44:00.000000000',\n",
       "       '2011-10-27T14:13:00.000000000', '2011-10-27T14:15:00.000000000',\n",
       "       '2011-10-27T14:20:00.000000000', '2011-10-28T07:39:00.000000000',\n",
       "       '2011-10-28T13:04:00.000000000', '2011-10-28T18:07:00.000000000',\n",
       "       '2011-10-30T15:44:00.000000000', '2011-10-31T10:19:00.000000000',\n",
       "       '2011-10-31T10:42:00.000000000', '2011-11-01T12:12:00.000000000',\n",
       "       '2011-11-01T12:18:00.000000000', '2011-11-01T12:23:00.000000000',\n",
       "       '2011-11-01T13:56:00.000000000', '2011-11-02T14:51:00.000000000',\n",
       "       '2011-11-03T09:43:00.000000000', '2011-11-03T09:54:00.000000000',\n",
       "       '2011-11-03T10:45:00.000000000', '2011-11-03T13:24:00.000000000',\n",
       "       '2011-11-03T14:00:00.000000000', '2011-11-04T13:15:00.000000000',\n",
       "       '2011-11-04T13:24:00.000000000', '2011-11-04T13:28:00.000000000',\n",
       "       '2011-11-07T16:31:00.000000000', '2011-11-08T08:55:00.000000000',\n",
       "       '2011-11-08T12:13:00.000000000', '2011-11-08T12:45:00.000000000',\n",
       "       '2011-11-09T09:34:00.000000000', '2011-11-10T10:53:00.000000000',\n",
       "       '2011-11-10T11:53:00.000000000', '2011-11-10T11:55:00.000000000',\n",
       "       '2011-11-10T13:34:00.000000000', '2011-11-10T14:39:00.000000000',\n",
       "       '2011-11-10T15:03:00.000000000', '2011-11-10T16:27:00.000000000',\n",
       "       '2011-11-11T10:19:00.000000000', '2011-11-11T10:50:00.000000000',\n",
       "       '2011-11-11T12:07:00.000000000', '2011-11-11T13:35:00.000000000',\n",
       "       '2011-11-11T13:46:00.000000000', '2011-11-11T16:49:00.000000000',\n",
       "       '2011-11-13T15:37:00.000000000', '2011-11-14T08:31:00.000000000',\n",
       "       '2011-11-14T13:02:00.000000000', '2011-11-14T13:40:00.000000000',\n",
       "       '2011-11-15T08:43:00.000000000', '2011-11-15T10:50:00.000000000',\n",
       "       '2011-11-16T11:52:00.000000000', '2011-11-16T11:59:00.000000000',\n",
       "       '2011-11-17T08:35:00.000000000', '2011-11-17T09:39:00.000000000',\n",
       "       '2011-11-17T11:02:00.000000000', '2011-11-17T11:34:00.000000000',\n",
       "       '2011-11-17T18:29:00.000000000', '2011-11-18T09:53:00.000000000',\n",
       "       '2011-11-18T12:46:00.000000000', '2011-11-18T15:14:00.000000000',\n",
       "       '2011-11-20T12:34:00.000000000', '2011-11-20T12:55:00.000000000',\n",
       "       '2011-11-21T11:16:00.000000000', '2011-11-22T11:19:00.000000000',\n",
       "       '2011-11-22T13:42:00.000000000', '2011-11-23T13:51:00.000000000',\n",
       "       '2011-11-23T14:01:00.000000000', '2011-11-24T09:34:00.000000000',\n",
       "       '2011-11-24T11:44:00.000000000', '2011-11-24T15:01:00.000000000',\n",
       "       '2011-11-25T10:20:00.000000000', '2011-11-25T11:33:00.000000000',\n",
       "       '2011-11-25T11:35:00.000000000', '2011-11-25T15:44:00.000000000',\n",
       "       '2011-11-28T12:22:00.000000000', '2011-11-28T13:26:00.000000000',\n",
       "       '2011-11-28T15:35:00.000000000', '2011-11-28T15:43:00.000000000',\n",
       "       '2011-11-28T15:47:00.000000000', '2011-11-29T11:46:00.000000000',\n",
       "       '2011-11-29T15:23:00.000000000', '2011-11-30T08:50:00.000000000',\n",
       "       '2011-11-30T09:21:00.000000000', '2011-11-30T11:39:00.000000000',\n",
       "       '2011-11-30T12:18:00.000000000', '2011-11-30T14:16:00.000000000',\n",
       "       '2011-11-30T15:43:00.000000000', '2011-11-30T16:47:00.000000000',\n",
       "       '2011-12-01T16:38:00.000000000', '2011-12-01T17:20:00.000000000',\n",
       "       '2011-12-02T09:53:00.000000000', '2011-12-02T10:47:00.000000000',\n",
       "       '2011-12-02T10:49:00.000000000', '2011-12-02T12:43:00.000000000',\n",
       "       '2011-12-02T13:22:00.000000000', '2011-12-04T13:45:00.000000000',\n",
       "       '2011-12-04T16:02:00.000000000', '2011-12-04T16:07:00.000000000',\n",
       "       '2011-12-05T16:28:00.000000000', '2011-12-05T16:31:00.000000000',\n",
       "       '2011-12-06T08:55:00.000000000', '2011-12-06T10:00:00.000000000',\n",
       "       '2011-12-06T10:19:00.000000000', '2011-12-06T16:34:00.000000000',\n",
       "       '2011-12-07T08:07:00.000000000', '2011-12-07T15:02:00.000000000',\n",
       "       '2011-12-08T11:35:00.000000000', '2011-12-08T11:46:00.000000000',\n",
       "       '2011-12-09T12:50:00.000000000'], dtype='datetime64[ns]')"
      ]
     },
     "execution_count": 14,
     "metadata": {},
     "output_type": "execute_result"
    }
   ],
   "source": [
    "data = one_hot_encoded\n",
    "data['InvoiceDate'].unique()"
   ]
  },
  {
   "cell_type": "code",
   "execution_count": 15,
   "id": "9a1d2428",
   "metadata": {},
   "outputs": [
    {
     "data": {
      "text/html": [
       "<div>\n",
       "<style scoped>\n",
       "    .dataframe tbody tr th:only-of-type {\n",
       "        vertical-align: middle;\n",
       "    }\n",
       "\n",
       "    .dataframe tbody tr th {\n",
       "        vertical-align: top;\n",
       "    }\n",
       "\n",
       "    .dataframe thead th {\n",
       "        text-align: right;\n",
       "    }\n",
       "</style>\n",
       "<table border=\"1\" class=\"dataframe\">\n",
       "  <thead>\n",
       "    <tr style=\"text-align: right;\">\n",
       "      <th></th>\n",
       "      <th>Quantity</th>\n",
       "      <th>InvoiceDate</th>\n",
       "      <th>UnitPrice</th>\n",
       "      <th>CustomerID</th>\n",
       "      <th>Country_EIRE</th>\n",
       "      <th>Country_France</th>\n",
       "      <th>Country_Greece</th>\n",
       "    </tr>\n",
       "  </thead>\n",
       "  <tbody>\n",
       "    <tr>\n",
       "      <th>1404</th>\n",
       "      <td>4</td>\n",
       "      <td>2010-12-01 14:05:00</td>\n",
       "      <td>9.95</td>\n",
       "      <td>14911.0</td>\n",
       "      <td>1</td>\n",
       "      <td>0</td>\n",
       "      <td>0</td>\n",
       "    </tr>\n",
       "    <tr>\n",
       "      <th>1405</th>\n",
       "      <td>6</td>\n",
       "      <td>2010-12-01 14:05:00</td>\n",
       "      <td>2.95</td>\n",
       "      <td>14911.0</td>\n",
       "      <td>1</td>\n",
       "      <td>0</td>\n",
       "      <td>0</td>\n",
       "    </tr>\n",
       "    <tr>\n",
       "      <th>1406</th>\n",
       "      <td>6</td>\n",
       "      <td>2010-12-01 14:05:00</td>\n",
       "      <td>2.55</td>\n",
       "      <td>14911.0</td>\n",
       "      <td>1</td>\n",
       "      <td>0</td>\n",
       "      <td>0</td>\n",
       "    </tr>\n",
       "    <tr>\n",
       "      <th>1407</th>\n",
       "      <td>50</td>\n",
       "      <td>2010-12-01 14:05:00</td>\n",
       "      <td>0.85</td>\n",
       "      <td>14911.0</td>\n",
       "      <td>1</td>\n",
       "      <td>0</td>\n",
       "      <td>0</td>\n",
       "    </tr>\n",
       "    <tr>\n",
       "      <th>1408</th>\n",
       "      <td>6</td>\n",
       "      <td>2010-12-01 14:05:00</td>\n",
       "      <td>2.25</td>\n",
       "      <td>14911.0</td>\n",
       "      <td>1</td>\n",
       "      <td>0</td>\n",
       "      <td>0</td>\n",
       "    </tr>\n",
       "  </tbody>\n",
       "</table>\n",
       "</div>"
      ],
      "text/plain": [
       "      Quantity         InvoiceDate  UnitPrice  CustomerID  Country_EIRE  \\\n",
       "1404         4 2010-12-01 14:05:00       9.95     14911.0             1   \n",
       "1405         6 2010-12-01 14:05:00       2.95     14911.0             1   \n",
       "1406         6 2010-12-01 14:05:00       2.55     14911.0             1   \n",
       "1407        50 2010-12-01 14:05:00       0.85     14911.0             1   \n",
       "1408         6 2010-12-01 14:05:00       2.25     14911.0             1   \n",
       "\n",
       "      Country_France  Country_Greece  \n",
       "1404               0               0  \n",
       "1405               0               0  \n",
       "1406               0               0  \n",
       "1407               0               0  \n",
       "1408               0               0  "
      ]
     },
     "execution_count": 15,
     "metadata": {},
     "output_type": "execute_result"
    }
   ],
   "source": [
    "data = data.drop([\"StockCode\", \"InvoiceNo\", \"Description\"], axis = 1)\n",
    "data.head()"
   ]
  },
  {
   "cell_type": "code",
   "execution_count": 16,
   "id": "2d417a16",
   "metadata": {},
   "outputs": [
    {
     "data": {
      "text/html": [
       "<div>\n",
       "<style scoped>\n",
       "    .dataframe tbody tr th:only-of-type {\n",
       "        vertical-align: middle;\n",
       "    }\n",
       "\n",
       "    .dataframe tbody tr th {\n",
       "        vertical-align: top;\n",
       "    }\n",
       "\n",
       "    .dataframe thead th {\n",
       "        text-align: right;\n",
       "    }\n",
       "</style>\n",
       "<table border=\"1\" class=\"dataframe\">\n",
       "  <thead>\n",
       "    <tr style=\"text-align: right;\">\n",
       "      <th></th>\n",
       "      <th>Quantity</th>\n",
       "      <th>UnitPrice</th>\n",
       "      <th>CustomerID</th>\n",
       "      <th>Country_EIRE</th>\n",
       "      <th>Country_France</th>\n",
       "      <th>Country_Greece</th>\n",
       "      <th>Year</th>\n",
       "      <th>Month</th>\n",
       "      <th>Day</th>\n",
       "    </tr>\n",
       "  </thead>\n",
       "  <tbody>\n",
       "    <tr>\n",
       "      <th>1404</th>\n",
       "      <td>4</td>\n",
       "      <td>9.95</td>\n",
       "      <td>14911.0</td>\n",
       "      <td>1</td>\n",
       "      <td>0</td>\n",
       "      <td>0</td>\n",
       "      <td>2010</td>\n",
       "      <td>12</td>\n",
       "      <td>1</td>\n",
       "    </tr>\n",
       "    <tr>\n",
       "      <th>1405</th>\n",
       "      <td>6</td>\n",
       "      <td>2.95</td>\n",
       "      <td>14911.0</td>\n",
       "      <td>1</td>\n",
       "      <td>0</td>\n",
       "      <td>0</td>\n",
       "      <td>2010</td>\n",
       "      <td>12</td>\n",
       "      <td>1</td>\n",
       "    </tr>\n",
       "    <tr>\n",
       "      <th>1406</th>\n",
       "      <td>6</td>\n",
       "      <td>2.55</td>\n",
       "      <td>14911.0</td>\n",
       "      <td>1</td>\n",
       "      <td>0</td>\n",
       "      <td>0</td>\n",
       "      <td>2010</td>\n",
       "      <td>12</td>\n",
       "      <td>1</td>\n",
       "    </tr>\n",
       "    <tr>\n",
       "      <th>1407</th>\n",
       "      <td>50</td>\n",
       "      <td>0.85</td>\n",
       "      <td>14911.0</td>\n",
       "      <td>1</td>\n",
       "      <td>0</td>\n",
       "      <td>0</td>\n",
       "      <td>2010</td>\n",
       "      <td>12</td>\n",
       "      <td>1</td>\n",
       "    </tr>\n",
       "    <tr>\n",
       "      <th>1408</th>\n",
       "      <td>6</td>\n",
       "      <td>2.25</td>\n",
       "      <td>14911.0</td>\n",
       "      <td>1</td>\n",
       "      <td>0</td>\n",
       "      <td>0</td>\n",
       "      <td>2010</td>\n",
       "      <td>12</td>\n",
       "      <td>1</td>\n",
       "    </tr>\n",
       "  </tbody>\n",
       "</table>\n",
       "</div>"
      ],
      "text/plain": [
       "      Quantity  UnitPrice  CustomerID  Country_EIRE  Country_France  \\\n",
       "1404         4       9.95     14911.0             1               0   \n",
       "1405         6       2.95     14911.0             1               0   \n",
       "1406         6       2.55     14911.0             1               0   \n",
       "1407        50       0.85     14911.0             1               0   \n",
       "1408         6       2.25     14911.0             1               0   \n",
       "\n",
       "      Country_Greece  Year  Month  Day  \n",
       "1404               0  2010     12    1  \n",
       "1405               0  2010     12    1  \n",
       "1406               0  2010     12    1  \n",
       "1407               0  2010     12    1  \n",
       "1408               0  2010     12    1  "
      ]
     },
     "execution_count": 16,
     "metadata": {},
     "output_type": "execute_result"
    }
   ],
   "source": [
    "#Splitting date into three columns for easiness...\n",
    "date_data = data[\"InvoiceDate\"]\n",
    "data[\"Year\"] = date_data.dt.year\n",
    "data[\"Month\"] = date_data.dt.month\n",
    "data[\"Day\"] = date_data.dt.day\n",
    "data = data.drop([\"InvoiceDate\"], axis = 1)\n",
    "data.head()"
   ]
  },
  {
   "cell_type": "code",
   "execution_count": 54,
   "id": "8f02c588",
   "metadata": {},
   "outputs": [
    {
     "data": {
      "image/png": "[encoded data removed]",
      "text/plain": [
       "<Figure size 432x288 with 1 Axes>"
      ]
     },
     "metadata": {
      "needs_background": "light"
     },
     "output_type": "display_data"
    },
    {
     "data": {
      "image/png": "[encoded data removed]",
      "text/plain": [
       "<Figure size 432x288 with 1 Axes>"
      ]
     },
     "metadata": {
      "needs_background": "light"
     },
     "output_type": "display_data"
    },
    {
     "data": {
      "image/png": "[encoded data removed]",
      "text/plain": [
       "<Figure size 432x288 with 1 Axes>"
      ]
     },
     "metadata": {
      "needs_background": "light"
     },
     "output_type": "display_data"
    }
   ],
   "source": [
    "%matplotlib inline\n",
    "# Plotting variations of Quantity with countries.....\n",
    "plt.subplot()\n",
    "plt.scatter(data[\"Country_EIRE\"], data[\"Quantity\"], color = \"red\")\n",
    "plt.xlabel(\"EIRE\")\n",
    "plt.ylabel(\"Quantity\")\n",
    "plt.show()\n",
    "\n",
    "plt.subplot()\n",
    "plt.scatter(data[\"Country_France\"], data[\"Quantity\"], color = \"blue\")\n",
    "plt.xlabel(\"France\")\n",
    "plt.ylabel(\"Quantity\")\n",
    "plt.show()\n",
    "\n",
    "plt.subplot()\n",
    "plt.scatter(data[\"Country_France\"], data[\"Quantity\"], color = \"green\")\n",
    "plt.xlabel(\"Greece\")\n",
    "plt.ylabel(\"Quantity\")\n",
    "plt.show()"
   ]
  },
  {
   "cell_type": "code",
   "execution_count": 17,
   "id": "4ad74063",
   "metadata": {},
   "outputs": [
    {
     "data": {
      "text/plain": [
       "Quantity            0\n",
       "UnitPrice           0\n",
       "CustomerID        777\n",
       "Country_EIRE        0\n",
       "Country_France      0\n",
       "Country_Greece      0\n",
       "Year                0\n",
       "Month               0\n",
       "Day                 0\n",
       "dtype: int64"
      ]
     },
     "execution_count": 17,
     "metadata": {},
     "output_type": "execute_result"
    }
   ],
   "source": [
    "data.isnull().sum() # Still 777 IDs are not available...."
   ]
  },
  {
   "cell_type": "code",
   "execution_count": 18,
   "id": "79b72968",
   "metadata": {},
   "outputs": [
    {
     "name": "stdout",
     "output_type": "stream",
     "text": [
      "Missing values are 4.597905201491212 %\n",
      "Hence dropping those entries\n"
     ]
    }
   ],
   "source": [
    "print(\"Missing values are\", 777*100/len(data), \"%\")\n",
    "data.dropna(inplace=True)\n",
    "print(\"Hence dropping those entries\")"
   ]
  },
  {
   "cell_type": "code",
   "execution_count": 19,
   "id": "452bb0eb",
   "metadata": {},
   "outputs": [
    {
     "data": {
      "text/html": [
       "<div>\n",
       "<style scoped>\n",
       "    .dataframe tbody tr th:only-of-type {\n",
       "        vertical-align: middle;\n",
       "    }\n",
       "\n",
       "    .dataframe tbody tr th {\n",
       "        vertical-align: top;\n",
       "    }\n",
       "\n",
       "    .dataframe thead th {\n",
       "        text-align: right;\n",
       "    }\n",
       "</style>\n",
       "<table border=\"1\" class=\"dataframe\">\n",
       "  <thead>\n",
       "    <tr style=\"text-align: right;\">\n",
       "      <th></th>\n",
       "      <th>UnitPrice</th>\n",
       "      <th>CustomerID</th>\n",
       "      <th>Country_EIRE</th>\n",
       "      <th>Country_France</th>\n",
       "      <th>Country_Greece</th>\n",
       "      <th>Year</th>\n",
       "      <th>Month</th>\n",
       "      <th>Day</th>\n",
       "    </tr>\n",
       "  </thead>\n",
       "  <tbody>\n",
       "    <tr>\n",
       "      <th>1404</th>\n",
       "      <td>9.95</td>\n",
       "      <td>14911.0</td>\n",
       "      <td>1</td>\n",
       "      <td>0</td>\n",
       "      <td>0</td>\n",
       "      <td>2010</td>\n",
       "      <td>12</td>\n",
       "      <td>1</td>\n",
       "    </tr>\n",
       "    <tr>\n",
       "      <th>1405</th>\n",
       "      <td>2.95</td>\n",
       "      <td>14911.0</td>\n",
       "      <td>1</td>\n",
       "      <td>0</td>\n",
       "      <td>0</td>\n",
       "      <td>2010</td>\n",
       "      <td>12</td>\n",
       "      <td>1</td>\n",
       "    </tr>\n",
       "    <tr>\n",
       "      <th>1406</th>\n",
       "      <td>2.55</td>\n",
       "      <td>14911.0</td>\n",
       "      <td>1</td>\n",
       "      <td>0</td>\n",
       "      <td>0</td>\n",
       "      <td>2010</td>\n",
       "      <td>12</td>\n",
       "      <td>1</td>\n",
       "    </tr>\n",
       "    <tr>\n",
       "      <th>1407</th>\n",
       "      <td>0.85</td>\n",
       "      <td>14911.0</td>\n",
       "      <td>1</td>\n",
       "      <td>0</td>\n",
       "      <td>0</td>\n",
       "      <td>2010</td>\n",
       "      <td>12</td>\n",
       "      <td>1</td>\n",
       "    </tr>\n",
       "    <tr>\n",
       "      <th>1408</th>\n",
       "      <td>2.25</td>\n",
       "      <td>14911.0</td>\n",
       "      <td>1</td>\n",
       "      <td>0</td>\n",
       "      <td>0</td>\n",
       "      <td>2010</td>\n",
       "      <td>12</td>\n",
       "      <td>1</td>\n",
       "    </tr>\n",
       "  </tbody>\n",
       "</table>\n",
       "</div>"
      ],
      "text/plain": [
       "      UnitPrice  CustomerID  Country_EIRE  Country_France  Country_Greece  \\\n",
       "1404       9.95     14911.0             1               0               0   \n",
       "1405       2.95     14911.0             1               0               0   \n",
       "1406       2.55     14911.0             1               0               0   \n",
       "1407       0.85     14911.0             1               0               0   \n",
       "1408       2.25     14911.0             1               0               0   \n",
       "\n",
       "      Year  Month  Day  \n",
       "1404  2010     12    1  \n",
       "1405  2010     12    1  \n",
       "1406  2010     12    1  \n",
       "1407  2010     12    1  \n",
       "1408  2010     12    1  "
      ]
     },
     "execution_count": 19,
     "metadata": {},
     "output_type": "execute_result"
    }
   ],
   "source": [
    "x = data.iloc[:, 1:]\n",
    "y = data.iloc[:,0]\n",
    "x.head()"
   ]
  },
  {
   "cell_type": "code",
   "execution_count": 20,
   "id": "3f148e5a",
   "metadata": {},
   "outputs": [],
   "source": [
    "x_train, x_test, y_train, y_test = train_test_split(x, y, test_size=0.33)"
   ]
  },
  {
   "cell_type": "markdown",
   "id": "c8984083",
   "metadata": {},
   "source": [
    "# Decision Tree Model"
   ]
  },
  {
   "cell_type": "code",
   "execution_count": 21,
   "id": "97cf5a11",
   "metadata": {},
   "outputs": [
    {
     "data": {
      "text/plain": [
       "DecisionTreeRegressor()"
      ]
     },
     "execution_count": 21,
     "metadata": {},
     "output_type": "execute_result"
    }
   ],
   "source": [
    "tree = DecisionTreeRegressor()\n",
    "tree.fit(x_train, y_train)"
   ]
  },
  {
   "cell_type": "code",
   "execution_count": 22,
   "id": "6b18e59c",
   "metadata": {},
   "outputs": [],
   "source": [
    "y_predicted = tree.predict(x_test)"
   ]
  },
  {
   "cell_type": "code",
   "execution_count": 23,
   "id": "29ac29ea",
   "metadata": {},
   "outputs": [
    {
     "data": {
      "text/plain": [
       "927.3969461123437"
      ]
     },
     "execution_count": 23,
     "metadata": {},
     "output_type": "execute_result"
    }
   ],
   "source": [
    "# calculating rmse for decision tree model\n",
    "rmse = (sum((y_predicted - y_test)**2))/len(y_test)\n",
    "rmse"
   ]
  },
  {
   "cell_type": "markdown",
   "id": "0014d651",
   "metadata": {},
   "source": [
    "# Random Forest Regressor"
   ]
  },
  {
   "cell_type": "code",
   "execution_count": 24,
   "id": "be9f3f83",
   "metadata": {},
   "outputs": [
    {
     "data": {
      "text/plain": [
       "RandomForestRegressor()"
      ]
     },
     "execution_count": 24,
     "metadata": {},
     "output_type": "execute_result"
    }
   ],
   "source": [
    "random_forest = RandomForestRegressor()\n",
    "random_forest.fit(x_train, y_train)"
   ]
  },
  {
   "cell_type": "code",
   "execution_count": 25,
   "id": "1cc13818",
   "metadata": {},
   "outputs": [],
   "source": [
    "y_predicted2 = random_forest.predict(x_test)"
   ]
  },
  {
   "cell_type": "code",
   "execution_count": 26,
   "id": "d8aa14ac",
   "metadata": {},
   "outputs": [
    {
     "data": {
      "text/plain": [
       "601.7490115233669"
      ]
     },
     "execution_count": 26,
     "metadata": {},
     "output_type": "execute_result"
    }
   ],
   "source": [
    "# calculating rmse for random forest model\n",
    "rmse_random_forest = (sum((y_predicted2 - y_test)**2))/len(y_test)\n",
    "rmse_random_forest"
   ]
  },
  {
   "cell_type": "markdown",
   "id": "d8943f92",
   "metadata": {},
   "source": [
    "# Support Vector Model"
   ]
  },
  {
   "cell_type": "code",
   "execution_count": 27,
   "id": "1fb1eb5e",
   "metadata": {},
   "outputs": [
    {
     "data": {
      "text/plain": [
       "SVR()"
      ]
     },
     "execution_count": 27,
     "metadata": {},
     "output_type": "execute_result"
    }
   ],
   "source": [
    "svr_model = SVR()\n",
    "svr_model.fit(x_train, y_train)"
   ]
  },
  {
   "cell_type": "code",
   "execution_count": 28,
   "id": "93b380e7",
   "metadata": {},
   "outputs": [],
   "source": [
    "y_predicted3 = svr_model.predict(x_test)"
   ]
  },
  {
   "cell_type": "code",
   "execution_count": 29,
   "id": "3723507f",
   "metadata": {},
   "outputs": [
    {
     "data": {
      "text/plain": [
       "941.1552794654605"
      ]
     },
     "execution_count": 29,
     "metadata": {},
     "output_type": "execute_result"
    }
   ],
   "source": [
    "# calculating rmse for SVR model\n",
    "rmse_SVR = (sum((y_predicted3 - y_test)**2))/len(y_test)\n",
    "rmse_SVR"
   ]
  },
  {
   "cell_type": "markdown",
   "id": "ea50cf9d",
   "metadata": {},
   "source": [
    "# Neural Network Architecture"
   ]
  },
  {
   "cell_type": "code",
   "execution_count": 30,
   "id": "76f75437",
   "metadata": {},
   "outputs": [],
   "source": [
    "import tensorflow as tf\n",
    "from tensorflow.keras.models import Sequential\n",
    "from tensorflow.keras.layers import Dense\n",
    "from tensorflow.keras.optimizers import Adam"
   ]
  },
  {
   "cell_type": "code",
   "execution_count": 31,
   "id": "ed8f16dd",
   "metadata": {},
   "outputs": [
    {
     "name": "stdout",
     "output_type": "stream",
     "text": [
      "Model: \"sequential\"\n",
      "_________________________________________________________________\n",
      " Layer (type)                Output Shape              Param #   \n",
      "=================================================================\n",
      " layer1 (Dense)              (None, 350)               3150      \n",
      "                                                                 \n",
      " layer2 (Dense)              (None, 256)               89856     \n",
      "                                                                 \n",
      " layer3 (Dense)              (None, 125)               32125     \n",
      "                                                                 \n",
      " output_layer (Dense)        (None, 1)                 126       \n",
      "                                                                 \n",
      "=================================================================\n",
      "Total params: 125,257\n",
      "Trainable params: 125,257\n",
      "Non-trainable params: 0\n",
      "_________________________________________________________________\n"
     ]
    }
   ],
   "source": [
    "#Creating neural network architecture with 3 hidden layers and relu activation function....\n",
    "network = Sequential([tf.keras.Input(shape=x_train.shape[1]),\n",
    "                    Dense(units=350, kernel_initializer='normal', activation='relu', name = 'layer1'),\n",
    "                    Dense(units=256, kernel_initializer='normal', activation='relu', name = 'layer2'),\n",
    "                    Dense(units=125, kernel_initializer='normal', activation='relu', name = 'layer3'),\n",
    "                    Dense(units=1, kernel_initializer='normal', activation = 'linear', name = 'output_layer')])\n",
    "network.summary()"
   ]
  },
  {
   "cell_type": "code",
   "execution_count": 32,
   "id": "c76fe678",
   "metadata": {},
   "outputs": [
    {
     "name": "stdout",
     "output_type": "stream",
     "text": [
      "Epoch 1/25\n",
      "181/181 [==============================] - 2s 4ms/step - loss: 1413.9740\n",
      "Epoch 2/25\n",
      "181/181 [==============================] - 1s 5ms/step - loss: 1180.9503\n",
      "Epoch 3/25\n",
      "181/181 [==============================] - 1s 4ms/step - loss: 1213.4432\n",
      "Epoch 4/25\n",
      "181/181 [==============================] - 1s 4ms/step - loss: 1163.5698\n",
      "Epoch 5/25\n",
      "181/181 [==============================] - 1s 5ms/step - loss: 1151.3949\n",
      "Epoch 6/25\n",
      "181/181 [==============================] - 1s 4ms/step - loss: 1154.6776\n",
      "Epoch 7/25\n",
      "181/181 [==============================] - 1s 4ms/step - loss: 1162.7905\n",
      "Epoch 8/25\n",
      "181/181 [==============================] - 1s 4ms/step - loss: 1171.1848\n",
      "Epoch 9/25\n",
      "181/181 [==============================] - 1s 4ms/step - loss: 1155.0289\n",
      "Epoch 10/25\n",
      "181/181 [==============================] - 1s 4ms/step - loss: 1152.6033\n",
      "Epoch 11/25\n",
      "181/181 [==============================] - 1s 4ms/step - loss: 1161.8242\n",
      "Epoch 12/25\n",
      "181/181 [==============================] - 1s 4ms/step - loss: 1151.1387\n",
      "Epoch 13/25\n",
      "181/181 [==============================] - 1s 5ms/step - loss: 1151.5626\n",
      "Epoch 14/25\n",
      "181/181 [==============================] - 1s 6ms/step - loss: 1150.8169\n",
      "Epoch 15/25\n",
      "181/181 [==============================] - 1s 5ms/step - loss: 1152.8668\n",
      "Epoch 16/25\n",
      "181/181 [==============================] - 1s 5ms/step - loss: 1152.0746\n",
      "Epoch 17/25\n",
      "181/181 [==============================] - 1s 4ms/step - loss: 1150.2494\n",
      "Epoch 18/25\n",
      "181/181 [==============================] - 1s 3ms/step - loss: 1148.3352\n",
      "Epoch 19/25\n",
      "181/181 [==============================] - 1s 3ms/step - loss: 1147.8398\n",
      "Epoch 20/25\n",
      "181/181 [==============================] - 1s 4ms/step - loss: 1152.8207\n",
      "Epoch 21/25\n",
      "181/181 [==============================] - 1s 4ms/step - loss: 1150.2925\n",
      "Epoch 22/25\n",
      "181/181 [==============================] - 1s 4ms/step - loss: 1149.9045\n",
      "Epoch 23/25\n",
      "181/181 [==============================] - 1s 3ms/step - loss: 1148.4852\n",
      "Epoch 24/25\n",
      "181/181 [==============================] - 1s 3ms/step - loss: 1147.1599\n",
      "Epoch 25/25\n",
      "181/181 [==============================] - 1s 3ms/step - loss: 1145.9728\n"
     ]
    },
    {
     "data": {
      "text/plain": [
       "<keras.callbacks.History at 0x2e6338bce20>"
      ]
     },
     "execution_count": 32,
     "metadata": {},
     "output_type": "execute_result"
    }
   ],
   "source": [
    "network.compile(optimizer=Adam(0.001), loss=tf.keras.losses.MeanSquaredError())\n",
    "network.fit(x_train, y_train, epochs = 25, batch_size = 60)"
   ]
  },
  {
   "cell_type": "code",
   "execution_count": 33,
   "id": "cb34c100",
   "metadata": {},
   "outputs": [
    {
     "name": "stdout",
     "output_type": "stream",
     "text": [
      "167/167 [==============================] - 0s 2ms/step\n"
     ]
    }
   ],
   "source": [
    "y_predicted4 = network.predict(x_test)"
   ]
  },
  {
   "cell_type": "code",
   "execution_count": 34,
   "id": "3053baec",
   "metadata": {},
   "outputs": [
    {
     "data": {
      "text/plain": [
       "array([11.183155, 12.697028, 11.245215, ..., 12.944746, 12.762509,\n",
       "       10.63125 ], dtype=float32)"
      ]
     },
     "execution_count": 34,
     "metadata": {},
     "output_type": "execute_result"
    }
   ],
   "source": [
    "y_predicted4 = ((np.array([y_predicted4])).reshape(1,-1))[0]\n",
    "y_predicted4"
   ]
  },
  {
   "cell_type": "code",
   "execution_count": 35,
   "id": "c0483cb1",
   "metadata": {},
   "outputs": [
    {
     "data": {
      "text/plain": [
       "918.4006631173261"
      ]
     },
     "execution_count": 35,
     "metadata": {},
     "output_type": "execute_result"
    }
   ],
   "source": [
    "# calculating rmse for neural network architecture\n",
    "rmse_neural_network = (sum((y_predicted4 - y_test)**2))/len(y_test)\n",
    "rmse_neural_network"
   ]
  },
  {
   "cell_type": "markdown",
   "id": "4fff0322",
   "metadata": {},
   "source": [
    "# Another Neural Network "
   ]
  },
  {
   "cell_type": "code",
   "execution_count": 36,
   "id": "263079d6",
   "metadata": {},
   "outputs": [
    {
     "name": "stdout",
     "output_type": "stream",
     "text": [
      "Model: \"sequential_1\"\n",
      "_________________________________________________________________\n",
      " Layer (type)                Output Shape              Param #   \n",
      "=================================================================\n",
      " layer1 (Dense)              (None, 350)               3150      \n",
      "                                                                 \n",
      " layer2 (Dense)              (None, 256)               89856     \n",
      "                                                                 \n",
      " output_layer (Dense)        (None, 1)                 257       \n",
      "                                                                 \n",
      "=================================================================\n",
      "Total params: 93,263\n",
      "Trainable params: 93,263\n",
      "Non-trainable params: 0\n",
      "_________________________________________________________________\n"
     ]
    }
   ],
   "source": [
    "#Creating neural network architecture with 2 hidden layers and relu activation function....\n",
    "network2 = Sequential([tf.keras.Input(shape=x_train.shape[1]),\n",
    "                    Dense(units=350, kernel_initializer='normal', activation='relu', name = 'layer1'),\n",
    "                    Dense(units=256, kernel_initializer='normal', activation='relu', name = 'layer2'),\n",
    "                    Dense(units=1, kernel_initializer='normal', activation = 'linear', name = 'output_layer')])\n",
    "network2.summary()"
   ]
  },
  {
   "cell_type": "code",
   "execution_count": 37,
   "id": "e267f3c6",
   "metadata": {},
   "outputs": [
    {
     "name": "stdout",
     "output_type": "stream",
     "text": [
      "Epoch 1/25\n",
      "181/181 [==============================] - 2s 4ms/step - loss: 6045.3350\n",
      "Epoch 2/25\n",
      "181/181 [==============================] - 1s 4ms/step - loss: 1244.9028\n",
      "Epoch 3/25\n",
      "181/181 [==============================] - 1s 4ms/step - loss: 1231.5492\n",
      "Epoch 4/25\n",
      "181/181 [==============================] - 1s 4ms/step - loss: 1242.7705\n",
      "Epoch 5/25\n",
      "181/181 [==============================] - 1s 3ms/step - loss: 1328.5122\n",
      "Epoch 6/25\n",
      "181/181 [==============================] - 1s 4ms/step - loss: 1317.2823\n",
      "Epoch 7/25\n",
      "181/181 [==============================] - 1s 4ms/step - loss: 1221.1667\n",
      "Epoch 8/25\n",
      "181/181 [==============================] - 1s 4ms/step - loss: 1285.4547\n",
      "Epoch 9/25\n",
      "181/181 [==============================] - 1s 4ms/step - loss: 1379.0278\n",
      "Epoch 10/25\n",
      "181/181 [==============================] - 1s 4ms/step - loss: 1301.7415\n",
      "Epoch 11/25\n",
      "181/181 [==============================] - 1s 4ms/step - loss: 2738.7625\n",
      "Epoch 12/25\n",
      "181/181 [==============================] - 1s 4ms/step - loss: 1160.6488\n",
      "Epoch 13/25\n",
      "181/181 [==============================] - 1s 3ms/step - loss: 1185.7198\n",
      "Epoch 14/25\n",
      "181/181 [==============================] - 1s 3ms/step - loss: 1175.6617\n",
      "Epoch 15/25\n",
      "181/181 [==============================] - 0s 3ms/step - loss: 1165.3121\n",
      "Epoch 16/25\n",
      "181/181 [==============================] - 1s 3ms/step - loss: 1171.1489\n",
      "Epoch 17/25\n",
      "181/181 [==============================] - 0s 3ms/step - loss: 1198.2074\n",
      "Epoch 18/25\n",
      "181/181 [==============================] - 1s 3ms/step - loss: 1198.4464\n",
      "Epoch 19/25\n",
      "181/181 [==============================] - 0s 3ms/step - loss: 1191.6234\n",
      "Epoch 20/25\n",
      "181/181 [==============================] - 0s 3ms/step - loss: 1188.6781\n",
      "Epoch 21/25\n",
      "181/181 [==============================] - 1s 3ms/step - loss: 1200.6257\n",
      "Epoch 22/25\n",
      "181/181 [==============================] - 0s 3ms/step - loss: 1184.2896\n",
      "Epoch 23/25\n",
      "181/181 [==============================] - 1s 3ms/step - loss: 1185.9766\n",
      "Epoch 24/25\n",
      "181/181 [==============================] - 1s 3ms/step - loss: 1179.8029\n",
      "Epoch 25/25\n",
      "181/181 [==============================] - 1s 3ms/step - loss: 1226.0861\n"
     ]
    },
    {
     "data": {
      "text/plain": [
       "<keras.callbacks.History at 0x2e6361d4c70>"
      ]
     },
     "execution_count": 37,
     "metadata": {},
     "output_type": "execute_result"
    }
   ],
   "source": [
    "network2.compile(optimizer=Adam(0.001), loss=tf.keras.losses.MeanSquaredError())\n",
    "network2.fit(x_train, y_train, epochs = 25, batch_size = 60)"
   ]
  },
  {
   "cell_type": "code",
   "execution_count": 38,
   "id": "0cc6ad3b",
   "metadata": {},
   "outputs": [
    {
     "name": "stdout",
     "output_type": "stream",
     "text": [
      "167/167 [==============================] - 0s 2ms/step\n"
     ]
    },
    {
     "data": {
      "text/plain": [
       "array([23.600857, 26.378548, 23.706036, ..., 26.393583, 26.617496,\n",
       "       22.06886 ], dtype=float32)"
      ]
     },
     "execution_count": 38,
     "metadata": {},
     "output_type": "execute_result"
    }
   ],
   "source": [
    "y_predicted5 = network2.predict(x_test)\n",
    "y_predicted5 = ((np.array([y_predicted5])).reshape(1,-1))[0]\n",
    "y_predicted5"
   ]
  },
  {
   "cell_type": "code",
   "execution_count": 39,
   "id": "de164b3e",
   "metadata": {},
   "outputs": [
    {
     "data": {
      "text/plain": [
       "996.6183254451175"
      ]
     },
     "execution_count": 39,
     "metadata": {},
     "output_type": "execute_result"
    }
   ],
   "source": [
    "# calculating rmse for neural network architecture\n",
    "rmse_neural_network2 = (sum((y_predicted5 - y_test)**2))/len(y_test)\n",
    "rmse_neural_network2"
   ]
  },
  {
   "cell_type": "markdown",
   "id": "8d86a192",
   "metadata": {},
   "source": [
    "# Plots for RMSE in different Models:"
   ]
  },
  {
   "cell_type": "code",
   "execution_count": 40,
   "id": "e1874517",
   "metadata": {},
   "outputs": [],
   "source": [
    "rmse_values = np.array([rmse, rmse_random_forest, rmse_SVR, rmse_neural_network, rmse_neural_network2])\n",
    "names = np.array([\"Decision Tree\", \"Random Forest\", \"Support Vector Machines\", \"Neural Network(3 hidden layers)\", \"Neural Network(2 Hidden layers)\"])"
   ]
  },
  {
   "cell_type": "code",
   "execution_count": 41,
   "id": "d103f123",
   "metadata": {},
   "outputs": [
    {
     "data": {
      "image/png": "[encoded data removed]",
      "text/plain": [
       "<Figure size 1080x360 with 1 Axes>"
      ]
     },
     "metadata": {
      "needs_background": "light"
     },
     "output_type": "display_data"
    }
   ],
   "source": [
    "plt.figure(figsize=(15,5))\n",
    "plt.bar(names, rmse_values, color = \"purple\")\n",
    "plt.xlabel(\"Model\")\n",
    "plt.ylabel(\"RMSE Value\")\n",
    "plt.title(\"ML Models and RMSE values\")\n",
    "plt.show()"
   ]
  },
  {
   "cell_type": "markdown",
   "id": "8c69fdae",
   "metadata": {},
   "source": [
    "# We get lowest RMSE in Random Forest Regressor model.......\n",
    "Hence it can be used for evaluation....."
   ]
  },
  {
   "cell_type": "code",
   "execution_count": null,
   "id": "6c4557a5",
   "metadata": {},
   "outputs": [],
   "source": []
  }
 ],
 "metadata": {
  "kernelspec": {
   "display_name": "Python 3 (ipykernel)",
   "language": "python",
   "name": "python3"
  },
  "language_info": {
   "codemirror_mode": {
    "name": "ipython",
    "version": 3
   },
   "file_extension": ".py",
   "mimetype": "text/x-python",
   "name": "python",
   "nbconvert_exporter": "python",
   "pygments_lexer": "ipython3",
   "version": "3.9.12"
  }
 },
 "nbformat": 4,
 "nbformat_minor": 5
}
